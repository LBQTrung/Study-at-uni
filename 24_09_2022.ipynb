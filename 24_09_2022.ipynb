{
  "nbformat": 4,
  "nbformat_minor": 0,
  "metadata": {
    "colab": {
      "provenance": []
    },
    "kernelspec": {
      "name": "python3",
      "display_name": "Python 3"
    },
    "language_info": {
      "name": "python"
    }
  },
  "cells": [
    {
      "cell_type": "markdown",
      "source": [
        "Import the libraries:"
      ],
      "metadata": {
        "id": "ZKuxWYKaKrpG"
      }
    },
    {
      "cell_type": "code",
      "source": [
        "import numpy as np\n",
        "import os"
      ],
      "metadata": {
        "id": "Cw5knNbmKvH8"
      },
      "execution_count": 3,
      "outputs": []
    },
    {
      "cell_type": "markdown",
      "source": [
        "### Đọc dữ liệu từ tập tin"
      ],
      "metadata": {
        "id": "bGrsLvvqMhFl"
      }
    },
    {
      "cell_type": "code",
      "source": [
        "def readData(folder, filename):\n",
        "  from google.colab import drive\n",
        "  drive.mount('/content/gdrive');\n",
        "  data = np.loadtxt(os.path.join(folder, filename), delimiter = ',')\n",
        "  X = data[:, 0]\n",
        "  y = data[:, -1]\n",
        "  one = np.ones((X.shape[0], 1))\n",
        "  X = np.concatenate((one, X.reshape(X.shape[0], 1)), axis = 1)\n",
        "  return X, y"
      ],
      "metadata": {
        "id": "ogXy7yXBMric"
      },
      "execution_count": 42,
      "outputs": []
    },
    {
      "cell_type": "markdown",
      "source": [
        "### Tính hàm mất mát"
      ],
      "metadata": {
        "id": "ma712LdmO230"
      }
    },
    {
      "cell_type": "code",
      "source": [
        "def calculateLoss(X, y, w):\n",
        "  h = np.dot(X, w)\n",
        "  m = X.shape[0]\n",
        "  J = (1/ (2*m)) * np.sum(np.square(h-y))\n",
        "  return J"
      ],
      "metadata": {
        "id": "PnJ_c1IxO4ql"
      },
      "execution_count": 23,
      "outputs": []
    },
    {
      "cell_type": "markdown",
      "source": [
        "### Xây dựng hàm tính Gradient Descent"
      ],
      "metadata": {
        "id": "jy3ZRYj8PbAd"
      }
    },
    {
      "cell_type": "code",
      "source": [
        "def gradientDescent(X, y, w, alpha, n = 1500):\n",
        "  m = X.shape[0]\n",
        "  w_optimal = []\n",
        "  loss_values = []\n",
        "  for i in range(n):\n",
        "    w = w - ((alpha/m) * (np.dot(X, w)) - y ).dot(X)\n",
        "    J = calculateLoss(X, y, w)\n",
        "    w_optimal.append(w)\n",
        "    loss_values.append(J)\n",
        "  return w_optimal, loss_values"
      ],
      "metadata": {
        "id": "CK48D04-PfDW"
      },
      "execution_count": 26,
      "outputs": []
    },
    {
      "cell_type": "markdown",
      "source": [
        "### Xây dựng phương trình hồi quy tuyến tính hoàn chỉnh"
      ],
      "metadata": {
        "id": "KCQB_E9DROf1"
      }
    },
    {
      "cell_type": "code",
      "source": [
        "def findModelSLR(folder, filename):\n",
        "  X, y = readData(folder, filename)\n",
        "  w_optimal, loss_values = gradientDescent(X, y, [0, 0], 0.02, n = 1500)\n",
        "  print(W_optimal)\n",
        "  print(loss_values)"
      ],
      "metadata": {
        "id": "HKZ_Y3OURVWE"
      },
      "execution_count": 57,
      "outputs": []
    }
  ]
}