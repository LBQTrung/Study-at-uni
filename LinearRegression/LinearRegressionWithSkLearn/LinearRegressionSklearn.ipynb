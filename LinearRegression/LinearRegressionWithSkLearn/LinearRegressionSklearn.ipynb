{
  "nbformat": 4,
  "nbformat_minor": 0,
  "metadata": {
    "colab": {
      "provenance": []
    },
    "kernelspec": {
      "name": "python3",
      "display_name": "Python 3"
    },
    "language_info": {
      "name": "python"
    }
  },
  "cells": [
    {
      "cell_type": "markdown",
      "source": [
        "#### Import the libraries"
      ],
      "metadata": {
        "id": "jhrzIGTthR5Q"
      }
    },
    {
      "cell_type": "code",
      "source": [
        "import numpy as np"
      ],
      "metadata": {
        "id": "ni9fXj8yhVr8"
      },
      "execution_count": 88,
      "outputs": []
    },
    {
      "cell_type": "markdown",
      "source": [
        "#### Import the dataset"
      ],
      "metadata": {
        "id": "2EPrbYschtyO"
      }
    },
    {
      "cell_type": "code",
      "source": [
        "dataset = np.loadtxt('ex1data2.txt', delimiter = ',')\n",
        "X = dataset[:, :-1]\n",
        "y = dataset[:, -1].reshape(-1, 1)"
      ],
      "metadata": {
        "id": "7NYzfC3khvca"
      },
      "execution_count": 89,
      "outputs": []
    },
    {
      "cell_type": "code",
      "source": [
        "X[:5, :]"
      ],
      "metadata": {
        "colab": {
          "base_uri": "https://localhost:8080/"
        },
        "id": "llbVs3WajXWM",
        "outputId": "6a1588b5-0017-4253-e9fb-a3366418e369"
      },
      "execution_count": 90,
      "outputs": [
        {
          "output_type": "execute_result",
          "data": {
            "text/plain": [
              "array([[2.104e+03, 3.000e+00],\n",
              "       [1.600e+03, 3.000e+00],\n",
              "       [2.400e+03, 3.000e+00],\n",
              "       [1.416e+03, 2.000e+00],\n",
              "       [3.000e+03, 4.000e+00]])"
            ]
          },
          "metadata": {},
          "execution_count": 90
        }
      ]
    },
    {
      "cell_type": "code",
      "source": [
        "y[:5]"
      ],
      "metadata": {
        "colab": {
          "base_uri": "https://localhost:8080/"
        },
        "id": "12QWQq7zjlGV",
        "outputId": "2b1dec94-1b39-46b6-c7c8-5ee55afaab80"
      },
      "execution_count": 91,
      "outputs": [
        {
          "output_type": "execute_result",
          "data": {
            "text/plain": [
              "array([[399900.],\n",
              "       [329900.],\n",
              "       [369000.],\n",
              "       [232000.],\n",
              "       [539900.]])"
            ]
          },
          "metadata": {},
          "execution_count": 91
        }
      ]
    },
    {
      "cell_type": "markdown",
      "source": [
        "#### Split the dataset into training set and test set"
      ],
      "metadata": {
        "id": "9n7OTYpkiKdB"
      }
    },
    {
      "cell_type": "code",
      "source": [
        "from sklearn.model_selection import train_test_split\n",
        "X_train, X_test, y_train, y_test = train_test_split(X, y, test_size = 0.2,\n",
        "                                                    random_state = 0)"
      ],
      "metadata": {
        "id": "eCu7_U_PiN63"
      },
      "execution_count": 92,
      "outputs": []
    },
    {
      "cell_type": "code",
      "source": [
        "X_train[:5,:]"
      ],
      "metadata": {
        "colab": {
          "base_uri": "https://localhost:8080/"
        },
        "id": "6WdaKs1KkV-J",
        "outputId": "f42ecd28-341a-4ea8-a3d2-1c18bfd4837c"
      },
      "execution_count": 93,
      "outputs": [
        {
          "output_type": "execute_result",
          "data": {
            "text/plain": [
              "array([[2526.,    3.],\n",
              "       [2040.,    4.],\n",
              "       [2637.,    3.],\n",
              "       [1200.,    3.],\n",
              "       [2400.,    3.]])"
            ]
          },
          "metadata": {},
          "execution_count": 93
        }
      ]
    },
    {
      "cell_type": "code",
      "source": [
        "y_train[:5]"
      ],
      "metadata": {
        "colab": {
          "base_uri": "https://localhost:8080/"
        },
        "id": "5Jcf5dpjkYag",
        "outputId": "a8f82380-2018-4aa5-f1c8-4f7601ba00c7"
      },
      "execution_count": 94,
      "outputs": [
        {
          "output_type": "execute_result",
          "data": {
            "text/plain": [
              "array([[469000.],\n",
              "       [314900.],\n",
              "       [299900.],\n",
              "       [299000.],\n",
              "       [369000.]])"
            ]
          },
          "metadata": {},
          "execution_count": 94
        }
      ]
    },
    {
      "cell_type": "code",
      "source": [
        "X_test[:5, :]"
      ],
      "metadata": {
        "colab": {
          "base_uri": "https://localhost:8080/"
        },
        "id": "FBJEQ04Mkbz7",
        "outputId": "4e39bc40-d949-4f94-c7d6-4cd2f676cdfb"
      },
      "execution_count": 95,
      "outputs": [
        {
          "output_type": "execute_result",
          "data": {
            "text/plain": [
              "array([[2.200e+03, 3.000e+00],\n",
              "       [3.137e+03, 3.000e+00],\n",
              "       [1.839e+03, 2.000e+00],\n",
              "       [3.000e+03, 4.000e+00],\n",
              "       [2.609e+03, 4.000e+00]])"
            ]
          },
          "metadata": {},
          "execution_count": 95
        }
      ]
    },
    {
      "cell_type": "code",
      "source": [
        "y_test[:5]"
      ],
      "metadata": {
        "colab": {
          "base_uri": "https://localhost:8080/"
        },
        "id": "FG_Awy4qknWB",
        "outputId": "f3234e8f-68e4-469f-b971-2eb893460c1d"
      },
      "execution_count": 96,
      "outputs": [
        {
          "output_type": "execute_result",
          "data": {
            "text/plain": [
              "array([[475000.],\n",
              "       [579900.],\n",
              "       [349900.],\n",
              "       [539900.],\n",
              "       [499998.]])"
            ]
          },
          "metadata": {},
          "execution_count": 96
        }
      ]
    },
    {
      "cell_type": "markdown",
      "source": [
        "#### Feature Scaling"
      ],
      "metadata": {
        "id": "P8egsFDihwwO"
      }
    },
    {
      "cell_type": "code",
      "source": [
        "from sklearn.preprocessing import MinMaxScaler, StandardScaler\n",
        "sc_X = StandardScaler()\n",
        "sc_y = StandardScaler()\n",
        "\n",
        "X_train = sc_X.fit_transform(X_train)\n",
        "X_test = sc_X.transform(X_test)\n",
        "y_train = sc_y.fit_transform(y_train)"
      ],
      "metadata": {
        "id": "p420jj6fh6Kx"
      },
      "execution_count": 97,
      "outputs": []
    },
    {
      "cell_type": "code",
      "source": [
        "X_train[:5,:]"
      ],
      "metadata": {
        "colab": {
          "base_uri": "https://localhost:8080/"
        },
        "outputId": "25db8e32-700a-40cb-e0b8-13734736bc5d",
        "id": "oWmpK1Ivqlv8"
      },
      "execution_count": 98,
      "outputs": [
        {
          "output_type": "execute_result",
          "data": {
            "text/plain": [
              "array([[ 0.70478365, -0.27372166],\n",
              "       [ 0.11051283,  1.17309283],\n",
              "       [ 0.84051217, -0.27372166],\n",
              "       [-0.91662193, -0.27372166],\n",
              "       [ 0.55071344, -0.27372166]])"
            ]
          },
          "metadata": {},
          "execution_count": 98
        }
      ]
    },
    {
      "cell_type": "code",
      "source": [
        "y_train[:5]"
      ],
      "metadata": {
        "colab": {
          "base_uri": "https://localhost:8080/"
        },
        "outputId": "fc58257f-b1a9-4069-a4b9-70417506dd11",
        "id": "dsx2f_nUqlv9"
      },
      "execution_count": 99,
      "outputs": [
        {
          "output_type": "execute_result",
          "data": {
            "text/plain": [
              "array([[ 1.15924789],\n",
              "       [-0.13370043],\n",
              "       [-0.25955523],\n",
              "       [-0.26710652],\n",
              "       [ 0.32021588]])"
            ]
          },
          "metadata": {},
          "execution_count": 99
        }
      ]
    },
    {
      "cell_type": "code",
      "source": [
        "X_test[:5, :]"
      ],
      "metadata": {
        "colab": {
          "base_uri": "https://localhost:8080/"
        },
        "outputId": "748ff189-3486-4dfa-94d2-81a87b6d0bb2",
        "id": "XZPVVRKgqlv9"
      },
      "execution_count": 100,
      "outputs": [
        {
          "output_type": "execute_result",
          "data": {
            "text/plain": [
              "array([[ 0.30615754, -0.27372166],\n",
              "       [ 1.45190191, -0.27372166],\n",
              "       [-0.13526585, -1.72053615],\n",
              "       [ 1.28438112,  1.17309283],\n",
              "       [ 0.80627435,  1.17309283]])"
            ]
          },
          "metadata": {},
          "execution_count": 100
        }
      ]
    },
    {
      "cell_type": "markdown",
      "source": [
        "#### Training Linear Regression model in training set"
      ],
      "metadata": {
        "id": "-WaCbvnsiO-P"
      }
    },
    {
      "cell_type": "code",
      "source": [
        "from sklearn.linear_model import LinearRegression\n",
        "regressor = LinearRegression()\n",
        "regressor.fit(X_train, y_train)"
      ],
      "metadata": {
        "colab": {
          "base_uri": "https://localhost:8080/"
        },
        "id": "thWvvr_JiWi1",
        "outputId": "3d2610f7-8ec1-488e-c767-b52c5ba5a70c"
      },
      "execution_count": 101,
      "outputs": [
        {
          "output_type": "execute_result",
          "data": {
            "text/plain": [
              "LinearRegression()"
            ]
          },
          "metadata": {},
          "execution_count": 101
        }
      ]
    },
    {
      "cell_type": "code",
      "source": [
        "print('\\t\\tw optimal: ', regressor.coef_)"
      ],
      "metadata": {
        "colab": {
          "base_uri": "https://localhost:8080/"
        },
        "id": "qKEEXUy9yPQp",
        "outputId": "c0eeafce-599e-48aa-d03a-5c186aee28a9"
      },
      "execution_count": 104,
      "outputs": [
        {
          "output_type": "stream",
          "name": "stdout",
          "text": [
            "\t\tw optimal:  [[ 0.86356602 -0.00926087]]\n"
          ]
        }
      ]
    },
    {
      "cell_type": "markdown",
      "source": [
        "#### Predict the Test set results"
      ],
      "metadata": {
        "id": "mNGt-oTVibmc"
      }
    },
    {
      "cell_type": "code",
      "source": [
        "y_pred = regressor.predict(X_test)\n",
        "y_pred = sc_y.inverse_transform(y_pred)\n",
        "result = np.concatenate((y_test.reshape(len(y_pred), 1), y_pred.reshape(len(y_pred), 1)), \n",
        "                        axis = 1)"
      ],
      "metadata": {
        "id": "rUR3ku8LihDj"
      },
      "execution_count": 102,
      "outputs": []
    },
    {
      "cell_type": "code",
      "source": [
        "result[:10]"
      ],
      "metadata": {
        "colab": {
          "base_uri": "https://localhost:8080/"
        },
        "id": "XLPByvA8rndb",
        "outputId": "4449a5b8-7776-44fd-8ebe-281e67e740fd"
      },
      "execution_count": 103,
      "outputs": [
        {
          "output_type": "execute_result",
          "data": {
            "text/plain": [
              "array([[475000.        , 362648.1885365 ],\n",
              "       [579900.        , 480572.88080166],\n",
              "       [349900.        , 318812.02080875],\n",
              "       [539900.        , 461734.02531911],\n",
              "       [499998.        , 412525.32235681],\n",
              "       [347000.        , 337477.49648418],\n",
              "       [314000.        , 407239.47702583],\n",
              "       [169900.        , 214817.89907594],\n",
              "       [242900.        , 287639.52622057],\n",
              "       [239999.        , 328329.35744178]])"
            ]
          },
          "metadata": {},
          "execution_count": 103
        }
      ]
    }
  ]
}