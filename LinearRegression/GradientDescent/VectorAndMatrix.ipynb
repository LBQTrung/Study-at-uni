{
  "nbformat": 4,
  "nbformat_minor": 0,
  "metadata": {
    "colab": {
      "provenance": []
    },
    "kernelspec": {
      "name": "python3",
      "display_name": "Python 3"
    },
    "language_info": {
      "name": "python"
    }
  },
  "cells": [
    {
      "cell_type": "markdown",
      "source": [
        "##Bài 1: Vector và Ma trận"
      ],
      "metadata": {
        "id": "y5dY7VafyULO"
      }
    },
    {
      "cell_type": "markdown",
      "source": [
        "Import thư viện cần thiết:"
      ],
      "metadata": {
        "id": "Buiujc_2yr42"
      }
    },
    {
      "cell_type": "code",
      "source": [
        "import numpy as np"
      ],
      "metadata": {
        "id": "Y5lRtiF0ytyf"
      },
      "execution_count": 2,
      "outputs": []
    },
    {
      "cell_type": "markdown",
      "source": [
        "1. Cho v là 1 vector hàng. v = [1, 2, 3, 4, 5]. Lưu ý: vector tương ứng với tensor hạng 1"
      ],
      "metadata": {
        "id": "gcFePjuayZqP"
      }
    },
    {
      "cell_type": "code",
      "source": [
        "v = np.array([1, 2, 3, 4, 5])"
      ],
      "metadata": {
        "id": "SWvs_qTDyi4u"
      },
      "execution_count": 29,
      "outputs": []
    },
    {
      "cell_type": "markdown",
      "source": [
        "2. Cho w là 1 vector cột w = [1; 2; 3; 4; 5]. Lưu ý vector cũng có thể biểu diễn dưới dạng tensor hạng 2 ở trường hợp đặc biệt $R^{m \\times 1}$"
      ],
      "metadata": {
        "id": "vC2Hx6NAyl3-"
      }
    },
    {
      "cell_type": "code",
      "source": [
        "w = np.array([1, 2, 3, 4, 5]).reshape(-1, 1)"
      ],
      "metadata": {
        "id": "PLArrbi7zD6q"
      },
      "execution_count": 4,
      "outputs": []
    },
    {
      "cell_type": "markdown",
      "source": [
        "3. Hãy xác định số chiều, kích thước của 2 vector v và w; in 2 vector v và w ra màn hình; nhận xét điểm khác biệt của kết quả"
      ],
      "metadata": {
        "id": "qnaTg_NszNjO"
      }
    },
    {
      "cell_type": "markdown",
      "source": [
        "* Số chiều:"
      ],
      "metadata": {
        "id": "x8Z1oahnzYBR"
      }
    },
    {
      "cell_type": "code",
      "source": [
        "v.ndim"
      ],
      "metadata": {
        "colab": {
          "base_uri": "https://localhost:8080/"
        },
        "id": "-N0KAhAjzapX",
        "outputId": "e75379e4-d671-46ba-d9a5-8b5a79a6cd17"
      },
      "execution_count": 6,
      "outputs": [
        {
          "output_type": "execute_result",
          "data": {
            "text/plain": [
              "1"
            ]
          },
          "metadata": {},
          "execution_count": 6
        }
      ]
    },
    {
      "cell_type": "code",
      "source": [
        "w.ndim"
      ],
      "metadata": {
        "colab": {
          "base_uri": "https://localhost:8080/"
        },
        "id": "t_g4kLlkzdwp",
        "outputId": "1839b37d-0edd-4f55-b47e-d450608e97a9"
      },
      "execution_count": 7,
      "outputs": [
        {
          "output_type": "execute_result",
          "data": {
            "text/plain": [
              "2"
            ]
          },
          "metadata": {},
          "execution_count": 7
        }
      ]
    },
    {
      "cell_type": "markdown",
      "source": [
        "* Kích thước của 2 vector:"
      ],
      "metadata": {
        "id": "0XNq3EHnzfHa"
      }
    },
    {
      "cell_type": "code",
      "source": [
        "v.shape"
      ],
      "metadata": {
        "colab": {
          "base_uri": "https://localhost:8080/"
        },
        "id": "3bvOwSK1ziBm",
        "outputId": "c0d2acd9-6868-4252-954e-b81bb32135ae"
      },
      "execution_count": 8,
      "outputs": [
        {
          "output_type": "execute_result",
          "data": {
            "text/plain": [
              "(5,)"
            ]
          },
          "metadata": {},
          "execution_count": 8
        }
      ]
    },
    {
      "cell_type": "code",
      "source": [
        "w.shape"
      ],
      "metadata": {
        "colab": {
          "base_uri": "https://localhost:8080/"
        },
        "id": "xkOnVfE3zjMF",
        "outputId": "90ffa65e-e072-43ea-eff0-269caa61c022"
      },
      "execution_count": 9,
      "outputs": [
        {
          "output_type": "execute_result",
          "data": {
            "text/plain": [
              "(5, 1)"
            ]
          },
          "metadata": {},
          "execution_count": 9
        }
      ]
    },
    {
      "cell_type": "markdown",
      "source": [
        "* Nhận xét: v là một tensor hạng 1 hay vector (nên phép transpose không có tác dụng), w là tensor hạng 2 hay matrix"
      ],
      "metadata": {
        "id": "ko2RE40Ezl81"
      }
    },
    {
      "cell_type": "markdown",
      "source": [
        "4. Cho u và w là 2 vector cột có kích thước (m, 1). Hãy tạo ma trận X bằng cách ghép 2 vector cột u và w lại với nhau X = [u, w]"
      ],
      "metadata": {
        "id": "0EpFO4R20HrX"
      }
    },
    {
      "cell_type": "code",
      "source": [
        "np.random.seed(0)\n",
        "u = np.random.randint(low = 0, high = 10, size = (5, 1)) # m = 5\n",
        "w = np.random.randint(low = 0, high = 10, size = (5, 1))"
      ],
      "metadata": {
        "id": "KTvOVXcK0k5H"
      },
      "execution_count": 24,
      "outputs": []
    },
    {
      "cell_type": "code",
      "source": [
        "u "
      ],
      "metadata": {
        "colab": {
          "base_uri": "https://localhost:8080/"
        },
        "id": "3LMNMH3C1Apt",
        "outputId": "1d784774-a4ed-4bc6-e0ac-948d7479a7fd"
      },
      "execution_count": 25,
      "outputs": [
        {
          "output_type": "execute_result",
          "data": {
            "text/plain": [
              "array([[5],\n",
              "       [0],\n",
              "       [3],\n",
              "       [3],\n",
              "       [7]])"
            ]
          },
          "metadata": {},
          "execution_count": 25
        }
      ]
    },
    {
      "cell_type": "code",
      "source": [
        "w"
      ],
      "metadata": {
        "colab": {
          "base_uri": "https://localhost:8080/"
        },
        "id": "35YO72FB1CME",
        "outputId": "16ea5fca-6200-4548-a9aa-766aad7ddd63"
      },
      "execution_count": 26,
      "outputs": [
        {
          "output_type": "execute_result",
          "data": {
            "text/plain": [
              "array([[9],\n",
              "       [3],\n",
              "       [5],\n",
              "       [2],\n",
              "       [4]])"
            ]
          },
          "metadata": {},
          "execution_count": 26
        }
      ]
    },
    {
      "cell_type": "markdown",
      "source": [
        "* Cách 1: Sử dụng hàm np.column_stack()"
      ],
      "metadata": {
        "id": "jw6sOeE51GBe"
      }
    },
    {
      "cell_type": "code",
      "source": [
        "np.column_stack((u, w))"
      ],
      "metadata": {
        "colab": {
          "base_uri": "https://localhost:8080/"
        },
        "id": "VnHkpBJy1I9N",
        "outputId": "a1249137-c823-490f-de3d-35f5c5a93d0a"
      },
      "execution_count": 28,
      "outputs": [
        {
          "output_type": "execute_result",
          "data": {
            "text/plain": [
              "array([[5, 9],\n",
              "       [0, 3],\n",
              "       [3, 5],\n",
              "       [3, 2],\n",
              "       [7, 4]])"
            ]
          },
          "metadata": {},
          "execution_count": 28
        }
      ]
    },
    {
      "cell_type": "markdown",
      "source": [
        "* Cách 2: Sử dụng hàm np.hstack()"
      ],
      "metadata": {
        "id": "JDA0z_7w1QWN"
      }
    },
    {
      "cell_type": "code",
      "source": [
        "X = np.hstack((u, v))"
      ],
      "metadata": {
        "id": "ucdtGHex1TDE"
      },
      "execution_count": 15,
      "outputs": []
    },
    {
      "cell_type": "markdown",
      "source": [
        "* Sô chiều của X:"
      ],
      "metadata": {
        "id": "CAj6AzBl1igN"
      }
    },
    {
      "cell_type": "code",
      "source": [
        "X.shape "
      ],
      "metadata": {
        "colab": {
          "base_uri": "https://localhost:8080/"
        },
        "id": "SoUzjJQt1kFl",
        "outputId": "b906c3fb-e7fd-4762-d966-8e7c77c3a521"
      },
      "execution_count": 17,
      "outputs": [
        {
          "output_type": "execute_result",
          "data": {
            "text/plain": [
              "(5, 2)"
            ]
          },
          "metadata": {},
          "execution_count": 17
        }
      ]
    },
    {
      "cell_type": "markdown",
      "source": [
        "5. Hãy tạo ma trận X có giá trị như sau:\n",
        "$$ X = \\begin{bmatrix}\n",
        "    1 & 2 & 3 & 4 & 5\\\\\n",
        "    6 & 7 & 8 & 9 & 2\\\\\n",
        "    4 & 5 & 7 & 2 & 1\n",
        "\\end{bmatrix}$$"
      ],
      "metadata": {
        "id": "hoFrBMm61s-8"
      }
    },
    {
      "cell_type": "markdown",
      "source": [
        "* Tạo ma trận X bằng np array()"
      ],
      "metadata": {
        "id": "1AbxMZc92avu"
      }
    },
    {
      "cell_type": "code",
      "source": [
        "X = np.array([\n",
        "    [1, 2, 3, 4, 5],\n",
        "    [6, 7, 8, 9, 2],\n",
        "    [4, 5, 7, 2, 1]\n",
        "])"
      ],
      "metadata": {
        "id": "YvNZ__392nEd"
      },
      "execution_count": 18,
      "outputs": []
    },
    {
      "cell_type": "markdown",
      "source": [
        "* Tạo ma trận X bằng hàm np.reshape()"
      ],
      "metadata": {
        "id": "GvLJMpA420vp"
      }
    },
    {
      "cell_type": "code",
      "source": [
        "np.array([1, 2, 3, 4, 5, 6, 7, 8, 9, 2, 4, 5, 7, 2, 1]).reshape(3, -1)"
      ],
      "metadata": {
        "colab": {
          "base_uri": "https://localhost:8080/"
        },
        "id": "RhDA2XE52-iQ",
        "outputId": "f75b4f04-7760-41c6-abca-3fa99535ae58"
      },
      "execution_count": 20,
      "outputs": [
        {
          "output_type": "execute_result",
          "data": {
            "text/plain": [
              "array([[1, 2, 3, 4, 5],\n",
              "       [6, 7, 8, 9, 2],\n",
              "       [4, 5, 7, 2, 1]])"
            ]
          },
          "metadata": {},
          "execution_count": 20
        }
      ]
    },
    {
      "cell_type": "markdown",
      "source": [
        "* Xác định số chiều"
      ],
      "metadata": {
        "id": "fFnF8xGQ3Pa3"
      }
    },
    {
      "cell_type": "code",
      "source": [
        "X.ndim"
      ],
      "metadata": {
        "colab": {
          "base_uri": "https://localhost:8080/"
        },
        "id": "Qh3bHrLL3RNE",
        "outputId": "55e7ccc6-ee57-47f3-afa8-a91df6d89e21"
      },
      "execution_count": 21,
      "outputs": [
        {
          "output_type": "execute_result",
          "data": {
            "text/plain": [
              "2"
            ]
          },
          "metadata": {},
          "execution_count": 21
        }
      ]
    },
    {
      "cell_type": "markdown",
      "source": [
        "* Xác định kích thước"
      ],
      "metadata": {
        "id": "WcLSxTCW3TsG"
      }
    },
    {
      "cell_type": "code",
      "source": [
        "X.shape"
      ],
      "metadata": {
        "colab": {
          "base_uri": "https://localhost:8080/"
        },
        "id": "CMWL4yfU3XT7",
        "outputId": "593860a0-a430-46a0-9531-877a234e9517"
      },
      "execution_count": 22,
      "outputs": [
        {
          "output_type": "execute_result",
          "data": {
            "text/plain": [
              "(3, 5)"
            ]
          },
          "metadata": {},
          "execution_count": 22
        }
      ]
    },
    {
      "cell_type": "markdown",
      "source": [
        "* In nội dung ma trận X ra màn hình:"
      ],
      "metadata": {
        "id": "u4IGqfLi3ZQz"
      }
    },
    {
      "cell_type": "code",
      "source": [
        "X"
      ],
      "metadata": {
        "colab": {
          "base_uri": "https://localhost:8080/"
        },
        "id": "j8g_Clhn3c5J",
        "outputId": "d05e8329-d3eb-4e06-b9a6-98c824121cf3"
      },
      "execution_count": 23,
      "outputs": [
        {
          "output_type": "execute_result",
          "data": {
            "text/plain": [
              "array([[1, 2, 3, 4, 5],\n",
              "       [6, 7, 8, 9, 2],\n",
              "       [4, 5, 7, 2, 1]])"
            ]
          },
          "metadata": {},
          "execution_count": 23
        }
      ]
    },
    {
      "cell_type": "markdown",
      "source": [
        "6. Nhân ma trận X với vector v"
      ],
      "metadata": {
        "id": "cXwTLulm3hHN"
      }
    },
    {
      "cell_type": "code",
      "source": [
        "A = np.dot(X, v)"
      ],
      "metadata": {
        "id": "1i8BZ1yn3t_O"
      },
      "execution_count": 30,
      "outputs": []
    },
    {
      "cell_type": "markdown",
      "source": [
        "* Xác định chiều"
      ],
      "metadata": {
        "id": "8EOpywUy30t8"
      }
    },
    {
      "cell_type": "code",
      "source": [
        "A.ndim"
      ],
      "metadata": {
        "colab": {
          "base_uri": "https://localhost:8080/"
        },
        "id": "K5llUoEw33yw",
        "outputId": "2e88dfc8-9e3c-4a83-ad8f-a9f161e2bc70"
      },
      "execution_count": 31,
      "outputs": [
        {
          "output_type": "execute_result",
          "data": {
            "text/plain": [
              "1"
            ]
          },
          "metadata": {},
          "execution_count": 31
        }
      ]
    },
    {
      "cell_type": "markdown",
      "source": [
        "* Xác định kích thước"
      ],
      "metadata": {
        "id": "LwrxiOwn35NC"
      }
    },
    {
      "cell_type": "code",
      "source": [
        "A.shape"
      ],
      "metadata": {
        "colab": {
          "base_uri": "https://localhost:8080/"
        },
        "id": "NV-gUHx636vR",
        "outputId": "11c51867-470c-49d3-a451-a1dab04638a2"
      },
      "execution_count": 32,
      "outputs": [
        {
          "output_type": "execute_result",
          "data": {
            "text/plain": [
              "(3,)"
            ]
          },
          "metadata": {},
          "execution_count": 32
        }
      ]
    },
    {
      "cell_type": "markdown",
      "source": [
        "* In nội dung ra màn hình"
      ],
      "metadata": {
        "id": "lty_Q3Uu38Dz"
      }
    },
    {
      "cell_type": "code",
      "source": [
        "A"
      ],
      "metadata": {
        "colab": {
          "base_uri": "https://localhost:8080/"
        },
        "id": "zbinb7Pr3-9q",
        "outputId": "eb525d2a-4351-4e99-9007-049915de3ba6"
      },
      "execution_count": 33,
      "outputs": [
        {
          "output_type": "execute_result",
          "data": {
            "text/plain": [
              "array([55, 90, 48])"
            ]
          },
          "metadata": {},
          "execution_count": 33
        }
      ]
    },
    {
      "cell_type": "markdown",
      "source": [
        "7. Hãy nhân ma trận X với vector w"
      ],
      "metadata": {
        "id": "lp5wwiH44OyN"
      }
    },
    {
      "cell_type": "code",
      "source": [
        "B = np.dot(X, w)"
      ],
      "metadata": {
        "id": "fSx18qqK4S6T"
      },
      "execution_count": 35,
      "outputs": []
    },
    {
      "cell_type": "markdown",
      "source": [
        "* Xác định chiều, kích thước và in nội dung kết quả phép nhân ra màn hình"
      ],
      "metadata": {
        "id": "ku5we1AE4aSq"
      }
    },
    {
      "cell_type": "code",
      "source": [
        "B.ndim"
      ],
      "metadata": {
        "colab": {
          "base_uri": "https://localhost:8080/"
        },
        "id": "FW0BcBi54fBG",
        "outputId": "b6c598bf-6834-4c71-d420-7de032710744"
      },
      "execution_count": 36,
      "outputs": [
        {
          "output_type": "execute_result",
          "data": {
            "text/plain": [
              "2"
            ]
          },
          "metadata": {},
          "execution_count": 36
        }
      ]
    },
    {
      "cell_type": "code",
      "source": [
        "B.shape"
      ],
      "metadata": {
        "colab": {
          "base_uri": "https://localhost:8080/"
        },
        "id": "Pj5uc9la4ghF",
        "outputId": "c0006e77-4e67-4e01-8862-0cb5237398a2"
      },
      "execution_count": 37,
      "outputs": [
        {
          "output_type": "execute_result",
          "data": {
            "text/plain": [
              "(3, 1)"
            ]
          },
          "metadata": {},
          "execution_count": 37
        }
      ]
    },
    {
      "cell_type": "code",
      "source": [
        "B"
      ],
      "metadata": {
        "colab": {
          "base_uri": "https://localhost:8080/"
        },
        "id": "Sq1vSH9Q4hi1",
        "outputId": "c28efe99-ce99-4335-c540-e10fa12e6db0"
      },
      "execution_count": 38,
      "outputs": [
        {
          "output_type": "execute_result",
          "data": {
            "text/plain": [
              "array([[ 58],\n",
              "       [141],\n",
              "       [ 94]])"
            ]
          },
          "metadata": {},
          "execution_count": 38
        }
      ]
    },
    {
      "cell_type": "markdown",
      "source": [
        "* Sự khác biệt giữa câu 6 và câu 7 là sự khác biệt về hạng của 2 tensor."
      ],
      "metadata": {
        "id": "TA_jo8n54jqc"
      }
    },
    {
      "cell_type": "markdown",
      "source": [
        "8. Xét ma trận ở câu 5, hãy tìm ma trận chuyển vị của X, kí hiệu là $X^{T}$"
      ],
      "metadata": {
        "id": "4ZD4A-X54_tw"
      }
    },
    {
      "cell_type": "code",
      "source": [
        "X.T"
      ],
      "metadata": {
        "colab": {
          "base_uri": "https://localhost:8080/"
        },
        "id": "iGOEDdvz5J5j",
        "outputId": "bfa8a230-c4b8-4d9d-9884-15cb04074f0a"
      },
      "execution_count": 41,
      "outputs": [
        {
          "output_type": "execute_result",
          "data": {
            "text/plain": [
              "array([[1, 6, 4],\n",
              "       [2, 7, 5],\n",
              "       [3, 8, 7],\n",
              "       [4, 9, 2],\n",
              "       [5, 2, 1]])"
            ]
          },
          "metadata": {},
          "execution_count": 41
        }
      ]
    }
  ]
}