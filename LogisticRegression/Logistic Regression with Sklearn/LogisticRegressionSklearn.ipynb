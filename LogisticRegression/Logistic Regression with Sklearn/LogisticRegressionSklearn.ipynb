{
  "nbformat": 4,
  "nbformat_minor": 0,
  "metadata": {
    "colab": {
      "provenance": []
    },
    "kernelspec": {
      "name": "python3",
      "display_name": "Python 3"
    },
    "language_info": {
      "name": "python"
    }
  },
  "cells": [
    {
      "cell_type": "markdown",
      "source": [
        "#### Import the libraries"
      ],
      "metadata": {
        "id": "jhrzIGTthR5Q"
      }
    },
    {
      "cell_type": "code",
      "source": [
        "import numpy as np"
      ],
      "metadata": {
        "id": "ni9fXj8yhVr8"
      },
      "execution_count": 1,
      "outputs": []
    },
    {
      "cell_type": "markdown",
      "source": [
        "#### Import the dataset"
      ],
      "metadata": {
        "id": "2EPrbYschtyO"
      }
    },
    {
      "cell_type": "code",
      "source": [
        "dataset = np.loadtxt('ex2data1.txt', delimiter = ',')\n",
        "X = dataset[:, :-1]\n",
        "y = dataset[:, -1]"
      ],
      "metadata": {
        "id": "7NYzfC3khvca"
      },
      "execution_count": 27,
      "outputs": []
    },
    {
      "cell_type": "code",
      "source": [
        "X[:5, :]"
      ],
      "metadata": {
        "colab": {
          "base_uri": "https://localhost:8080/"
        },
        "id": "llbVs3WajXWM",
        "outputId": "68d072c2-50f0-4d13-d841-ca4357c25fd1"
      },
      "execution_count": 28,
      "outputs": [
        {
          "output_type": "execute_result",
          "data": {
            "text/plain": [
              "array([[34.62365962, 78.02469282],\n",
              "       [30.28671077, 43.89499752],\n",
              "       [35.84740877, 72.90219803],\n",
              "       [60.18259939, 86.3085521 ],\n",
              "       [79.03273605, 75.34437644]])"
            ]
          },
          "metadata": {},
          "execution_count": 28
        }
      ]
    },
    {
      "cell_type": "code",
      "source": [
        "y[:5]"
      ],
      "metadata": {
        "colab": {
          "base_uri": "https://localhost:8080/"
        },
        "id": "12QWQq7zjlGV",
        "outputId": "fff1c596-e765-40a4-c4e0-4a29479a7398"
      },
      "execution_count": 29,
      "outputs": [
        {
          "output_type": "execute_result",
          "data": {
            "text/plain": [
              "array([0., 0., 0., 1., 1.])"
            ]
          },
          "metadata": {},
          "execution_count": 29
        }
      ]
    },
    {
      "cell_type": "markdown",
      "source": [
        "#### Split the dataset into training set and test set"
      ],
      "metadata": {
        "id": "9n7OTYpkiKdB"
      }
    },
    {
      "cell_type": "code",
      "source": [
        "from sklearn.model_selection import train_test_split\n",
        "X_train, X_test, y_train, y_test = train_test_split(X, y, test_size = 0.2,\n",
        "                                                    random_state = 0)"
      ],
      "metadata": {
        "id": "eCu7_U_PiN63"
      },
      "execution_count": 30,
      "outputs": []
    },
    {
      "cell_type": "code",
      "source": [
        "len(X_train)"
      ],
      "metadata": {
        "colab": {
          "base_uri": "https://localhost:8080/"
        },
        "id": "6WdaKs1KkV-J",
        "outputId": "914c36a5-8145-4941-a483-cbd2f3e375e7"
      },
      "execution_count": 31,
      "outputs": [
        {
          "output_type": "execute_result",
          "data": {
            "text/plain": [
              "80"
            ]
          },
          "metadata": {},
          "execution_count": 31
        }
      ]
    },
    {
      "cell_type": "code",
      "source": [
        "len(y_train)"
      ],
      "metadata": {
        "colab": {
          "base_uri": "https://localhost:8080/"
        },
        "id": "5Jcf5dpjkYag",
        "outputId": "adddfe0e-9eb5-4f46-b37e-e31c8040d2c2"
      },
      "execution_count": 32,
      "outputs": [
        {
          "output_type": "execute_result",
          "data": {
            "text/plain": [
              "80"
            ]
          },
          "metadata": {},
          "execution_count": 32
        }
      ]
    },
    {
      "cell_type": "code",
      "source": [
        "len(X_test)"
      ],
      "metadata": {
        "colab": {
          "base_uri": "https://localhost:8080/"
        },
        "id": "FBJEQ04Mkbz7",
        "outputId": "adb83311-08a1-43c4-a84f-a37bb8bb3752"
      },
      "execution_count": 33,
      "outputs": [
        {
          "output_type": "execute_result",
          "data": {
            "text/plain": [
              "20"
            ]
          },
          "metadata": {},
          "execution_count": 33
        }
      ]
    },
    {
      "cell_type": "code",
      "source": [
        "len(y_test)"
      ],
      "metadata": {
        "colab": {
          "base_uri": "https://localhost:8080/"
        },
        "id": "FG_Awy4qknWB",
        "outputId": "854d41b3-96f0-4bf6-dc0a-f8433ba98293"
      },
      "execution_count": 34,
      "outputs": [
        {
          "output_type": "execute_result",
          "data": {
            "text/plain": [
              "20"
            ]
          },
          "metadata": {},
          "execution_count": 34
        }
      ]
    },
    {
      "cell_type": "markdown",
      "source": [
        "#### Feature Scaling"
      ],
      "metadata": {
        "id": "P8egsFDihwwO"
      }
    },
    {
      "cell_type": "code",
      "source": [
        "from sklearn.preprocessing import MinMaxScaler, StandardScaler\n",
        "scaler= StandardScaler()\n",
        "\n",
        "X_train = scaler.fit_transform(X_train)\n",
        "X_test = scaler.transform(X_test)"
      ],
      "metadata": {
        "id": "p420jj6fh6Kx"
      },
      "execution_count": 35,
      "outputs": []
    },
    {
      "cell_type": "code",
      "source": [
        "X_train[:5,:]"
      ],
      "metadata": {
        "colab": {
          "base_uri": "https://localhost:8080/"
        },
        "outputId": "377f1ccf-0bdb-4dbd-c88d-4e42a349b266",
        "id": "oWmpK1Ivqlv8"
      },
      "execution_count": 36,
      "outputs": [
        {
          "output_type": "execute_result",
          "data": {
            "text/plain": [
              "array([[ 0.80451601, -1.39362426],\n",
              "       [-0.50529573, -1.46548914],\n",
              "       [-0.3082451 ,  1.02645931],\n",
              "       [-0.11480873,  0.58805764],\n",
              "       [-0.20592373, -0.78753542]])"
            ]
          },
          "metadata": {},
          "execution_count": 36
        }
      ]
    },
    {
      "cell_type": "code",
      "source": [
        "X_test[:5, :]"
      ],
      "metadata": {
        "colab": {
          "base_uri": "https://localhost:8080/"
        },
        "outputId": "4e0f0364-e575-435b-9502-dbcb996dc581",
        "id": "XZPVVRKgqlv9"
      },
      "execution_count": 37,
      "outputs": [
        {
          "output_type": "execute_result",
          "data": {
            "text/plain": [
              "array([[ 0.69524825, -1.17098365],\n",
              "       [-1.21642081,  0.6311251 ],\n",
              "       [-1.52879253,  0.31636331],\n",
              "       [-0.83969052, -0.37714832],\n",
              "       [ 1.68018881,  0.28813469]])"
            ]
          },
          "metadata": {},
          "execution_count": 37
        }
      ]
    },
    {
      "cell_type": "markdown",
      "source": [
        "#### Training Linear Regression model in training set"
      ],
      "metadata": {
        "id": "-WaCbvnsiO-P"
      }
    },
    {
      "cell_type": "code",
      "source": [
        "from sklearn.linear_model import LogisticRegression\n",
        "classifier = LogisticRegression()\n",
        "classifier.fit(X_train, y_train)"
      ],
      "metadata": {
        "colab": {
          "base_uri": "https://localhost:8080/"
        },
        "id": "thWvvr_JiWi1",
        "outputId": "76b0bd38-360c-4ece-aa2e-753110a72e8d"
      },
      "execution_count": 38,
      "outputs": [
        {
          "output_type": "execute_result",
          "data": {
            "text/plain": [
              "LogisticRegression()"
            ]
          },
          "metadata": {},
          "execution_count": 38
        }
      ]
    },
    {
      "cell_type": "code",
      "source": [
        "print('\\t\\tw optimal: ', classifier.coef_)"
      ],
      "metadata": {
        "colab": {
          "base_uri": "https://localhost:8080/"
        },
        "id": "qKEEXUy9yPQp",
        "outputId": "e7bb6d0e-4030-409b-f25d-b761c6f7be6d"
      },
      "execution_count": 39,
      "outputs": [
        {
          "output_type": "stream",
          "name": "stdout",
          "text": [
            "\t\tw optimal:  [[2.08761667 2.07706847]]\n"
          ]
        }
      ]
    },
    {
      "cell_type": "markdown",
      "source": [
        "#### Predict the Test set results"
      ],
      "metadata": {
        "id": "mNGt-oTVibmc"
      }
    },
    {
      "cell_type": "code",
      "source": [
        "y_pred = classifier.predict(X_test).reshape(-1, 1)\n",
        "y_test = y_test.reshape(-1, 1)\n",
        "result = np.concatenate((y_test, y_pred), \n",
        "                        axis = 1)"
      ],
      "metadata": {
        "id": "rUR3ku8LihDj"
      },
      "execution_count": 40,
      "outputs": []
    },
    {
      "cell_type": "code",
      "source": [
        "result[:10]\n",
        "# Left: test values, right: predict values"
      ],
      "metadata": {
        "colab": {
          "base_uri": "https://localhost:8080/"
        },
        "id": "XLPByvA8rndb",
        "outputId": "48ff1f57-291a-456f-be4f-9e0b81b0545a"
      },
      "execution_count": 41,
      "outputs": [
        {
          "output_type": "execute_result",
          "data": {
            "text/plain": [
              "array([[1., 0.],\n",
              "       [0., 0.],\n",
              "       [0., 0.],\n",
              "       [0., 0.],\n",
              "       [1., 1.],\n",
              "       [1., 1.],\n",
              "       [1., 0.],\n",
              "       [1., 1.],\n",
              "       [0., 0.],\n",
              "       [1., 1.]])"
            ]
          },
          "metadata": {},
          "execution_count": 41
        }
      ]
    },
    {
      "cell_type": "markdown",
      "source": [
        "#### Calculate Accuracy Score"
      ],
      "metadata": {
        "id": "KfmGNjW247nq"
      }
    },
    {
      "cell_type": "code",
      "source": [
        "from sklearn.metrics import accuracy_score\n",
        "accuracy_score(y_test, y_pred)"
      ],
      "metadata": {
        "colab": {
          "base_uri": "https://localhost:8080/"
        },
        "id": "RXCBp-be4-Zf",
        "outputId": "6471e82e-54b8-4a2f-a867-2e467771ab06"
      },
      "execution_count": 42,
      "outputs": [
        {
          "output_type": "execute_result",
          "data": {
            "text/plain": [
              "0.8"
            ]
          },
          "metadata": {},
          "execution_count": 42
        }
      ]
    }
  ]
}