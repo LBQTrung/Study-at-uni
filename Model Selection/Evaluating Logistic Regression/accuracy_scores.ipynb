{
  "nbformat": 4,
  "nbformat_minor": 0,
  "metadata": {
    "colab": {
      "provenance": []
    },
    "kernelspec": {
      "name": "python3",
      "display_name": "Python 3"
    },
    "language_info": {
      "name": "python"
    }
  },
  "cells": [
    {
      "cell_type": "markdown",
      "source": [
        "#### Import Thư viện numpy"
      ],
      "metadata": {
        "id": "i75YkTeaSQ_E"
      }
    },
    {
      "cell_type": "code",
      "source": [
        "import numpy as np"
      ],
      "metadata": {
        "id": "DDlOFmAxSfqE"
      },
      "execution_count": 1,
      "outputs": []
    },
    {
      "cell_type": "markdown",
      "source": [
        "#### Top k accuracy score"
      ],
      "metadata": {
        "id": "Jdi0LQf_ShRl"
      }
    },
    {
      "cell_type": "code",
      "source": [
        "def top_k_accuracy_score2(y_test, y_score, k):\n",
        "  sorted_index = np.argsort(y_score, axis=1)[:, ::-1]\n",
        "  top_k = sorted_index[:, :k].T\n",
        "  result = np.sum(y_test == top_k)\n",
        "  return result"
      ],
      "metadata": {
        "id": "aSBYd9NZSmJk"
      },
      "execution_count": 13,
      "outputs": []
    },
    {
      "cell_type": "code",
      "source": [
        "from sklearn.metrics import top_k_accuracy_score\n",
        "y_test = np.array([0, 1, 2, 2])\n",
        "y_score = np.array([[0.5, 0.2, 0.2], \n",
        "                    [0.3, 0.4, 0.2],\n",
        "                    [0.2, 0.4, 0.3],\n",
        "                    [0.7, 0.2, 0.1]])\n",
        "print(top_k_accuracy_score(y_test, y_score, k=2, normalize=False))\n",
        "print(top_k_accuracy_score2(y_test, y_score, 2))"
      ],
      "metadata": {
        "id": "Xp4CsuSL5TPi",
        "colab": {
          "base_uri": "https://localhost:8080/"
        },
        "outputId": "f51a3c0f-1d9c-42bb-b900-6d0a8ac53659"
      },
      "execution_count": 17,
      "outputs": [
        {
          "output_type": "stream",
          "name": "stdout",
          "text": [
            "3\n",
            "3\n"
          ]
        }
      ]
    },
    {
      "cell_type": "markdown",
      "source": [
        "#### Confusion matrix"
      ],
      "metadata": {
        "id": "lZSMgpD_TixK"
      }
    },
    {
      "cell_type": "code",
      "source": [
        "def confusion_matrix2(y_test, y_pred):\n",
        "  y_test = np.array(y_test)\n",
        "  y_pred = np.array(y_pred)\n",
        "  class_num = np.unique(y_test).shape[0]\n",
        "  result = np.zeros((class_num, class_num))\n",
        "  n = y_test.shape[0]\n",
        "  for i in range(n):\n",
        "    result[y_test[i], y_pred[i]] += 1\n",
        "  return result"
      ],
      "metadata": {
        "id": "XYf1RIS8TlvJ"
      },
      "execution_count": 25,
      "outputs": []
    },
    {
      "cell_type": "code",
      "source": [
        "from sklearn.metrics import confusion_matrix\n",
        "y_test = [0, 0, 0, 1, 1, 1, 1, 1]\n",
        "y_pred = [0, 1, 0, 1, 0, 1, 0, 1]\n",
        "print(confusion_matrix(y_test, y_pred))\n",
        "print(confusion_matrix2(y_test, y_pred))"
      ],
      "metadata": {
        "colab": {
          "base_uri": "https://localhost:8080/"
        },
        "id": "fvUzQnUBmVRy",
        "outputId": "61765ff3-a09c-48f0-9c37-639efec347d3"
      },
      "execution_count": 26,
      "outputs": [
        {
          "output_type": "stream",
          "name": "stdout",
          "text": [
            "[[2 1]\n",
            " [2 3]]\n",
            "[[2. 1.]\n",
            " [2. 3.]]\n"
          ]
        }
      ]
    },
    {
      "cell_type": "markdown",
      "source": [
        "####Độ đo balanced accuracy"
      ],
      "metadata": {
        "id": "-XQHci_0nwhY"
      }
    },
    {
      "cell_type": "code",
      "source": [
        "def true_negative_rate(y_test, y_pred, positive=None):\n",
        "  cm = confusion_matrix2(y_test, y_pred)\n",
        "  sum_cross = np.sum(cm.diagonal())\n",
        "  if positive:\n",
        "    tp = cm[positive,positive]\n",
        "    tn = sum_cross - tp\n",
        "    fp = np.sum(cm[:,positive]) - tp\n",
        "    return tn/(tn+fp)\n",
        "  else:\n",
        "    class_num = np.unique(y_test).shape[0]\n",
        "    result = []\n",
        "    for i in range(class_num):\n",
        "      tp = cm[i,i]\n",
        "      tn = sum_cross - tp\n",
        "      fp = np.sum(cm[:,i]) - tp\n",
        "      result.append(tn/(tn+fp))\n",
        "    return np.array(result)"
      ],
      "metadata": {
        "id": "5xXrUkglryQb"
      },
      "execution_count": 42,
      "outputs": []
    },
    {
      "cell_type": "code",
      "source": [
        "def balanced_accuracy_score2(y_test, y_pred, positive=None):\n",
        "  temp1 = recall_score2(y_test, y_pred, positive)\n",
        "  temp2 = true_negative_rate(y_test, y_pred, positive)\n",
        "  return 1/2 * (temp1 + temp2)\n"
      ],
      "metadata": {
        "id": "mKevm6WNn09n"
      },
      "execution_count": 43,
      "outputs": []
    },
    {
      "cell_type": "code",
      "source": [
        "from sklearn.metrics import balanced_accuracy_score\n",
        "y_test = [0, 1, 0, 0, 1, 0]\n",
        "y_pred = [0, 1, 0, 0, 0, 1]\n",
        "print(balanced_accuracy_score(y_test, y_pred))\n",
        "print(balanced_accuracy_score2(y_test, y_pred, 1))"
      ],
      "metadata": {
        "colab": {
          "base_uri": "https://localhost:8080/"
        },
        "id": "3SFcto7xoS3f",
        "outputId": "fc02de54-b808-47e8-a6f3-3d47ce9227a1"
      },
      "execution_count": 46,
      "outputs": [
        {
          "output_type": "stream",
          "name": "stdout",
          "text": [
            "0.625\n",
            "0.625\n"
          ]
        }
      ]
    },
    {
      "cell_type": "markdown",
      "source": [
        "#### Độ đo Precision"
      ],
      "metadata": {
        "id": "CzYUottAO5mT"
      }
    },
    {
      "cell_type": "code",
      "source": [
        "def precision_score2(y_test, y_pred, positive = None):\n",
        "  cm = confusion_matrix2(y_test, y_pred)\n",
        "  if positive:\n",
        "    return cm[positive,positive]/np.sum(cm[:, positive])\n",
        "  else:\n",
        "    class_num = np.unique(y_test).shape[0]\n",
        "    result = []\n",
        "    for i in range(class_num):\n",
        "      result.append(cm[i,i]/np.sum(cm[:, i]))\n",
        "    return np.array(result)"
      ],
      "metadata": {
        "id": "ZsxNgDUTRtKq"
      },
      "execution_count": 31,
      "outputs": []
    },
    {
      "cell_type": "code",
      "source": [
        "from sklearn.metrics import precision_score\n",
        "y_test = [0, 0, 0, 1, 1, 1, 1, 1]\n",
        "y_pred = [0, 1, 0, 1, 0, 1, 0, 1]\n",
        "print(precision_score(y_test, y_pred))\n",
        "print(precision_score2(y_test, y_pred, 1))"
      ],
      "metadata": {
        "colab": {
          "base_uri": "https://localhost:8080/"
        },
        "id": "ToAxJ-1fYrkw",
        "outputId": "6a7b9e20-57af-41e8-efbc-491c02f043d8"
      },
      "execution_count": 32,
      "outputs": [
        {
          "output_type": "stream",
          "name": "stdout",
          "text": [
            "0.75\n",
            "0.75\n"
          ]
        }
      ]
    },
    {
      "cell_type": "markdown",
      "source": [
        "#### Độ đo Recall"
      ],
      "metadata": {
        "id": "NkAeJE7lrJVN"
      }
    },
    {
      "cell_type": "code",
      "source": [
        "def recall_score2(y_test, y_pred, positive=None):\n",
        "  cm = confusion_matrix2(y_test, y_pred)\n",
        "  if positive:\n",
        "    return cm[positive,positive]/np.sum(cm[positive])\n",
        "  else:\n",
        "    class_num = np.unique(y_test).shape[0]\n",
        "    result = []\n",
        "    for i in range(class_num):\n",
        "      result.append(cm[i,i]/np.sum(cm[i]))\n",
        "    return np.array(result)"
      ],
      "metadata": {
        "id": "asjXsnoFrLa0"
      },
      "execution_count": 33,
      "outputs": []
    },
    {
      "cell_type": "code",
      "source": [
        "from sklearn.metrics import recall_score\n",
        "y_test = [0, 0, 0, 1, 1, 1, 1, 1]\n",
        "y_pred = [0, 1, 0, 1, 0, 1, 0, 1]\n",
        "print(recall_score(y_test, y_pred))\n",
        "print(recall_score2(y_test, y_pred, 1))"
      ],
      "metadata": {
        "colab": {
          "base_uri": "https://localhost:8080/"
        },
        "id": "wDbah9P-spxr",
        "outputId": "35299733-4485-44db-c1ad-23c502c963d6"
      },
      "execution_count": 34,
      "outputs": [
        {
          "output_type": "stream",
          "name": "stdout",
          "text": [
            "0.6\n",
            "0.6\n"
          ]
        }
      ]
    },
    {
      "cell_type": "markdown",
      "source": [
        "#### Độ đo F1 (F-measure)"
      ],
      "metadata": {
        "id": "jmB2Tk6cxgW9"
      }
    },
    {
      "cell_type": "code",
      "source": [
        "def f1_score2(y_test, y_pred, positive=None):\n",
        "  precision = precision_score2(y_test, y_pred, positive)\n",
        "  recall = recall_score2(y_test, y_pred, positive)\n",
        "  result = 2 * (precision * recall) / (precision + recall)\n",
        "  return result"
      ],
      "metadata": {
        "id": "kShQlCFTxqlj"
      },
      "execution_count": 35,
      "outputs": []
    },
    {
      "cell_type": "code",
      "source": [
        "from sklearn.metrics import f1_score\n",
        "y_test = [0, 0, 0, 1, 1, 1, 1, 1]\n",
        "y_pred = [0, 1, 0, 1, 0, 1, 0, 1]\n",
        "print(f1_score(y_test, y_pred))\n",
        "print(f1_score2(y_test, y_pred, 1))"
      ],
      "metadata": {
        "colab": {
          "base_uri": "https://localhost:8080/"
        },
        "id": "9fZjwnrsy47J",
        "outputId": "fc80ada9-a800-4536-bb6e-7a0e490d09c6"
      },
      "execution_count": 36,
      "outputs": [
        {
          "output_type": "stream",
          "name": "stdout",
          "text": [
            "0.6666666666666665\n",
            "0.6666666666666665\n"
          ]
        }
      ]
    },
    {
      "cell_type": "markdown",
      "source": [
        "#### Độ đo Hamming loss"
      ],
      "metadata": {
        "id": "XMeQ0rRgwqK8"
      }
    },
    {
      "cell_type": "code",
      "source": [
        "def hamming_loss2(y_test, y_pred):\n",
        "  n = y_test.shape[0]\n",
        "  return np.sum(y_test != y_pred)/n"
      ],
      "metadata": {
        "id": "W8FptWkKxAVf"
      },
      "execution_count": 52,
      "outputs": []
    },
    {
      "cell_type": "code",
      "source": [
        "from sklearn.metrics import hamming_loss\n",
        "y_pred = np.array([1, 2, 3, 4])\n",
        "y_test = np.array([2, 2, 3, 4])\n",
        "print(hamming_loss(y_test, y_pred))\n",
        "print(hamming_loss2(y_test, y_pred))"
      ],
      "metadata": {
        "colab": {
          "base_uri": "https://localhost:8080/"
        },
        "id": "YGbWS_FPwtbe",
        "outputId": "f92c20d3-749b-416d-9bc4-6f2ddb7a2632"
      },
      "execution_count": 53,
      "outputs": [
        {
          "output_type": "stream",
          "name": "stdout",
          "text": [
            "0.25\n",
            "0.25\n"
          ]
        }
      ]
    }
  ]
}