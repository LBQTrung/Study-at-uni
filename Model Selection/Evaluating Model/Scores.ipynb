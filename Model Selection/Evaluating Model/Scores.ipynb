{
  "nbformat": 4,
  "nbformat_minor": 0,
  "metadata": {
    "colab": {
      "provenance": [],
      "collapsed_sections": []
    },
    "kernelspec": {
      "name": "python3",
      "display_name": "Python 3"
    },
    "language_info": {
      "name": "python"
    }
  },
  "cells": [
    {
      "cell_type": "markdown",
      "source": [
        "####Import thư viện:"
      ],
      "metadata": {
        "id": "sjQQhc9C69D4"
      }
    },
    {
      "cell_type": "code",
      "source": [
        "import numpy as np"
      ],
      "metadata": {
        "id": "pp2w2NEi6_ul"
      },
      "execution_count": 1,
      "outputs": []
    },
    {
      "cell_type": "markdown",
      "source": [
        "#### Độ đo $R^2$"
      ],
      "metadata": {
        "id": "Sq9dlbBd7HUJ"
      }
    },
    {
      "cell_type": "markdown",
      "source": [
        "* Xây dựng hàm:"
      ],
      "metadata": {
        "id": "sHf1z6Dj7SSK"
      }
    },
    {
      "cell_type": "code",
      "source": [
        "def r2_score2(y_test, y_pred):\n",
        "    y_test = np.array(y_test)\n",
        "    y_pred = np.array(y_pred)\n",
        "    y_mean = np.mean(y_test)\n",
        "    result = 1 - np.sum(np.square(y_test-y_pred)) \\\n",
        "        / np.sum(np.square(y_test - y_mean))\n",
        "    return result"
      ],
      "metadata": {
        "id": "GB9JyTpd7QIa"
      },
      "execution_count": 3,
      "outputs": []
    },
    {
      "cell_type": "markdown",
      "source": [
        "* Kiểm tra:"
      ],
      "metadata": {
        "id": "I5s9iCy57WnL"
      }
    },
    {
      "cell_type": "code",
      "source": [
        "from sklearn.metrics import r2_score\n",
        "y_test = [3, 5, 2.5, 7]\n",
        "y_pred = [2.5, 5, 4, 8]\n",
        "print(r2_score(y_test, y_pred))\n",
        "print(r2_score2(y_test, y_pred))"
      ],
      "metadata": {
        "colab": {
          "base_uri": "https://localhost:8080/"
        },
        "id": "BrJCf9pj7Zgi",
        "outputId": "dabe60ee-d9e4-48aa-e78d-272b33a9a7d7"
      },
      "execution_count": 4,
      "outputs": [
        {
          "output_type": "stream",
          "name": "stdout",
          "text": [
            "0.7241379310344828\n",
            "0.7241379310344828\n"
          ]
        }
      ]
    },
    {
      "cell_type": "markdown",
      "source": [
        "#### Độ đo $MAE$"
      ],
      "metadata": {
        "id": "zrmwCn1g7qPk"
      }
    },
    {
      "cell_type": "markdown",
      "source": [
        "* Xây dựng hàm:"
      ],
      "metadata": {
        "id": "kv0sZ9c87qPp"
      }
    },
    {
      "cell_type": "code",
      "source": [
        "def mean_absolute_error2(y_test, y_pred):\n",
        "    y_test = np.array(y_test)\n",
        "    y_pred = np.array(y_pred)\n",
        "    n = y_test.shape[0]\n",
        "    result = (1/n) * np.sum(np.absolute(y_test - y_pred))\n",
        "    return result"
      ],
      "metadata": {
        "id": "qfuHkRbE7qPp"
      },
      "execution_count": 5,
      "outputs": []
    },
    {
      "cell_type": "markdown",
      "source": [
        "* Kiểm tra:"
      ],
      "metadata": {
        "id": "R4pKSqRp7qPq"
      }
    },
    {
      "cell_type": "code",
      "source": [
        "from sklearn.metrics import mean_absolute_error\n",
        "y_test = [3, 5, 2.5, 7]\n",
        "y_pred = [2.5, 5, 4, 8]\n",
        "print(mean_absolute_error(y_test, y_pred))\n",
        "print(mean_absolute_error2(y_test, y_pred))"
      ],
      "metadata": {
        "colab": {
          "base_uri": "https://localhost:8080/"
        },
        "outputId": "645be1cf-ed10-42ea-a152-4d56231033f0",
        "id": "NlT37h1p7qPq"
      },
      "execution_count": 7,
      "outputs": [
        {
          "output_type": "stream",
          "name": "stdout",
          "text": [
            "0.75\n",
            "0.75\n"
          ]
        }
      ]
    },
    {
      "cell_type": "markdown",
      "source": [
        "#### Độ đo $R^2$"
      ],
      "metadata": {
        "id": "vbYbgtVb7qsc"
      }
    },
    {
      "cell_type": "markdown",
      "source": [
        "* Xây dựng hàm:"
      ],
      "metadata": {
        "id": "XISqvhNq7qsc"
      }
    },
    {
      "cell_type": "code",
      "source": [
        "def r2_score2(y_test, y_pred):\n",
        "    y_test = np.array(y_test)\n",
        "    y_pred = np.array(y_pred)\n",
        "    y_mean = np.mean(y_test)\n",
        "    result = 1 - np.sum(np.square(y_test-y_pred)) \\\n",
        "        / np.sum(np.square(y_test - y_mean))\n",
        "    return result"
      ],
      "metadata": {
        "id": "nYCPBY3b7qsc"
      },
      "execution_count": null,
      "outputs": []
    },
    {
      "cell_type": "markdown",
      "source": [
        "* Kiểm tra:"
      ],
      "metadata": {
        "id": "iuicNRo67qsc"
      }
    },
    {
      "cell_type": "code",
      "source": [
        "from sklearn.metrics import r2_score\n",
        "y_test = [3, 5, 2.5, 7]\n",
        "y_pred = [2.5, 5, 4, 8]\n",
        "print(r2_score(y_test, y_pred))\n",
        "print(r2_score2(y_test, y_pred))"
      ],
      "metadata": {
        "colab": {
          "base_uri": "https://localhost:8080/"
        },
        "outputId": "dabe60ee-d9e4-48aa-e78d-272b33a9a7d7",
        "id": "m0n7jY187qsc"
      },
      "execution_count": null,
      "outputs": [
        {
          "output_type": "stream",
          "name": "stdout",
          "text": [
            "0.7241379310344828\n",
            "0.7241379310344828\n"
          ]
        }
      ]
    },
    {
      "cell_type": "markdown",
      "source": [
        "#### Độ đo $MSLE$"
      ],
      "metadata": {
        "id": "U2e5G2Ce7rEX"
      }
    },
    {
      "cell_type": "markdown",
      "source": [
        "* Xây dựng hàm:"
      ],
      "metadata": {
        "id": "mZAEb2kV7rEX"
      }
    },
    {
      "cell_type": "code",
      "source": [
        "def mean_squared_log_error2(y_test, y_pred):\n",
        "    y_test = np.array(y_test)\n",
        "    y_pred = np.array(y_pred)\n",
        "    n = y_test.shape[0]\n",
        "    result = (1/n) * np.sum(np.square(np.log(1 + y_test)\\\n",
        "         - np.log(1 + y_pred)))\n",
        "    return result"
      ],
      "metadata": {
        "id": "OE3hXjri7rEX"
      },
      "execution_count": 9,
      "outputs": []
    },
    {
      "cell_type": "markdown",
      "source": [
        "* Kiểm tra:"
      ],
      "metadata": {
        "id": "18rjZmAq7rEY"
      }
    },
    {
      "cell_type": "code",
      "source": [
        "from sklearn.metrics import mean_squared_log_error\n",
        "y_test = [3, 5, 2.5, 7]\n",
        "y_pred = [2.5, 5, 4, 8]\n",
        "print(mean_squared_log_error(y_test, y_pred))\n",
        "print(mean_squared_log_error2(y_test, y_pred))"
      ],
      "metadata": {
        "colab": {
          "base_uri": "https://localhost:8080/"
        },
        "outputId": "c29af6df-a92d-4c70-fa71-775271a7c4dc",
        "id": "8C5KY6S47rEY"
      },
      "execution_count": 10,
      "outputs": [
        {
          "output_type": "stream",
          "name": "stdout",
          "text": [
            "0.03973012298459379\n",
            "0.03973012298459379\n"
          ]
        }
      ]
    },
    {
      "cell_type": "markdown",
      "source": [
        "#### Độ đo $MAPE$"
      ],
      "metadata": {
        "id": "olKlaAbV7v-B"
      }
    },
    {
      "cell_type": "markdown",
      "source": [
        "* Xây dựng hàm:"
      ],
      "metadata": {
        "id": "KUo2nBP87v-B"
      }
    },
    {
      "cell_type": "code",
      "source": [
        "def mean_absolute_percentage_error2(y_test, y_pred, e = 0.0001):\n",
        "    y_test = np.array(y_test)\n",
        "    y_pred = np.array(y_pred)\n",
        "    e = np.ones(y_test.shape) * e\n",
        "    n = y_test.shape[0]\n",
        "    result = (1/n) * np.sum(np.absolute(y_test - y_pred)\\\n",
        "        /np.max((e, np.absolute(y_test)), axis = 0))\n",
        "    return result"
      ],
      "metadata": {
        "id": "r2nhBrzy7v-B"
      },
      "execution_count": 11,
      "outputs": []
    },
    {
      "cell_type": "markdown",
      "source": [
        "* Kiểm tra:"
      ],
      "metadata": {
        "id": "tRysJ8cf7v-B"
      }
    },
    {
      "cell_type": "code",
      "source": [
        "from sklearn.metrics import mean_absolute_percentage_error\n",
        "y_test = [3, 5, 2.5, 7]\n",
        "y_pred = [2.5, 5, 4, 8]\n",
        "print(mean_absolute_percentage_error(y_test, y_pred))\n",
        "print(mean_absolute_percentage_error2(y_test, y_pred))"
      ],
      "metadata": {
        "colab": {
          "base_uri": "https://localhost:8080/"
        },
        "outputId": "a6ecc93b-ea04-4ecc-9357-19a57065fc38",
        "id": "hvm-oOk-7v-B"
      },
      "execution_count": 12,
      "outputs": [
        {
          "output_type": "stream",
          "name": "stdout",
          "text": [
            "0.22738095238095235\n",
            "0.22738095238095235\n"
          ]
        }
      ]
    },
    {
      "cell_type": "markdown",
      "source": [
        "#### Độ đo $MedAE$"
      ],
      "metadata": {
        "id": "JoyTEY2B7wXL"
      }
    },
    {
      "cell_type": "markdown",
      "source": [
        "* Xây dựng hàm:"
      ],
      "metadata": {
        "id": "LpFYPNQ67wXL"
      }
    },
    {
      "cell_type": "code",
      "source": [
        "def median_absolute_error2(y_test, y_pred):\n",
        "    y_test = np.array(y_test)\n",
        "    y_pred = np.array(y_pred)\n",
        "    result = np.median(np.absolute(y_test-y_pred))\n",
        "    return result"
      ],
      "metadata": {
        "id": "a6Wu7qPF7wXL"
      },
      "execution_count": 13,
      "outputs": []
    },
    {
      "cell_type": "markdown",
      "source": [
        "* Kiểm tra:"
      ],
      "metadata": {
        "id": "wGchFEbZ7wXL"
      }
    },
    {
      "cell_type": "code",
      "source": [
        "from sklearn.metrics import median_absolute_error\n",
        "y_test = [3, 5, 2.5, 7]\n",
        "y_pred = [2.5, 5, 4, 8]\n",
        "print(median_absolute_error(y_test, y_pred))\n",
        "print(median_absolute_error2(y_test, y_pred))"
      ],
      "metadata": {
        "colab": {
          "base_uri": "https://localhost:8080/"
        },
        "outputId": "32a22e23-7a31-49cf-d588-80bf060e149b",
        "id": "-ivFT9mL7wXM"
      },
      "execution_count": 14,
      "outputs": [
        {
          "output_type": "stream",
          "name": "stdout",
          "text": [
            "0.75\n",
            "0.75\n"
          ]
        }
      ]
    },
    {
      "cell_type": "markdown",
      "source": [
        "#### Độ đo *Max Error*"
      ],
      "metadata": {
        "id": "FcPmgKzd7wro"
      }
    },
    {
      "cell_type": "markdown",
      "source": [
        "* Xây dựng hàm:"
      ],
      "metadata": {
        "id": "ewLF366M7wro"
      }
    },
    {
      "cell_type": "code",
      "source": [
        "def max_error2(y_test, y_pred):\n",
        "    y_test = np.array(y_test)\n",
        "    y_pred = np.array(y_pred)\n",
        "    result = np.max(np.absolute(y_test-y_pred))\n",
        "    return result"
      ],
      "metadata": {
        "id": "0HoFyP797wrp"
      },
      "execution_count": 70,
      "outputs": []
    },
    {
      "cell_type": "markdown",
      "source": [
        "* Kiểm tra:"
      ],
      "metadata": {
        "id": "EVCfKYpV7wrp"
      }
    },
    {
      "cell_type": "code",
      "source": [
        "from sklearn.metrics import max_error\n",
        "y_test = [3, 5, 2.5, 7]\n",
        "y_pred = [2.5, 5, 4, 8]\n",
        "print(max_error(y_test, y_pred))\n",
        "print(max_error2(y_test, y_pred))"
      ],
      "metadata": {
        "colab": {
          "base_uri": "https://localhost:8080/"
        },
        "outputId": "1184c696-9c41-4c6c-da6a-1f68b16334bf",
        "id": "qcQaItNg7wrp"
      },
      "execution_count": 71,
      "outputs": [
        {
          "output_type": "stream",
          "name": "stdout",
          "text": [
            "1.5\n",
            "1.5\n"
          ]
        }
      ]
    },
    {
      "cell_type": "markdown",
      "source": [
        "#### Độ đo *explained variance*"
      ],
      "metadata": {
        "id": "ROG4_d1j7xBX"
      }
    },
    {
      "cell_type": "markdown",
      "source": [
        "* Xây dựng hàm:"
      ],
      "metadata": {
        "id": "fe6guOI07xBX"
      }
    },
    {
      "cell_type": "code",
      "source": [
        "def explained_variance_score2(y_test, y_pred):\n",
        "    y_test = np.array(y_test)\n",
        "    y_pred = np.array(y_pred)\n",
        "    result = 1 - np.var(y_test-y_pred) / np.var(y_test)\n",
        "    return result"
      ],
      "metadata": {
        "id": "kRs_YmCc7xBX"
      },
      "execution_count": 17,
      "outputs": []
    },
    {
      "cell_type": "markdown",
      "source": [
        "* Kiểm tra:"
      ],
      "metadata": {
        "id": "_xCLvR8F7xBX"
      }
    },
    {
      "cell_type": "code",
      "source": [
        "from sklearn.metrics import explained_variance_score\n",
        "y_test = [3, 5, 2.5, 7]\n",
        "y_pred = [2.5, 5, 4, 8]\n",
        "print(explained_variance_score(y_test, y_pred))\n",
        "print(explained_variance_score2(y_test, y_pred))"
      ],
      "metadata": {
        "colab": {
          "base_uri": "https://localhost:8080/"
        },
        "outputId": "bf1de2f9-d1a6-4f35-deb3-2f92625ba32d",
        "id": "FpRFqel67xBX"
      },
      "execution_count": 18,
      "outputs": [
        {
          "output_type": "stream",
          "name": "stdout",
          "text": [
            "0.8029556650246306\n",
            "0.8029556650246306\n"
          ]
        }
      ]
    },
    {
      "cell_type": "markdown",
      "source": [
        "#### Độ đo $Tweedie$"
      ],
      "metadata": {
        "id": "i0zQurXp7xdh"
      }
    },
    {
      "cell_type": "markdown",
      "source": [
        "* Xây dựng hàm:"
      ],
      "metadata": {
        "id": "KOhgwHCP7xdh"
      }
    },
    {
      "cell_type": "code",
      "source": [
        "def mean_tweedie_deviance2(y_test, y_pred, p):\n",
        "    y_test = np.array(y_test)\n",
        "    y_pred = np.array(y_pred)\n",
        "    n = y_test.shape[0]\n",
        "    if p == 0:\n",
        "      result = (1/n) * np.sum(np.square(y_test-y_pred))\n",
        "    elif p == 1:\n",
        "      result = (1/n) * np.sum(2*(y_test*np.log(y_test/y_pred)\\\n",
        "                                 + y_pred - y_test))\n",
        "    elif p == 2:\n",
        "      result = (1/n) * np.sum(2*(np.log(y_pred/y_test)\\\n",
        "                                 + y_test/y_pred - 1))\n",
        "    else:\n",
        "      zeros = np.zeros(y_test.shape)\n",
        "      a = np.power(np.max((y_test, zeros), axis = 0), 2-p)\\\n",
        "          / ((1-p)*(2-p))\n",
        "      b = y_test * np.power(y_pred, 1-p) / (1-p)\n",
        "      c = np.power(y_pred, 2-p) / (2-p)\n",
        "      result = (1/n) * np.sum(2*(a-b+c))\n",
        "    return result"
      ],
      "metadata": {
        "id": "qgzAZyKM7xdi"
      },
      "execution_count": 47,
      "outputs": []
    },
    {
      "cell_type": "markdown",
      "source": [
        "* Kiểm tra:"
      ],
      "metadata": {
        "id": "imsBgbhI7xdi"
      }
    },
    {
      "cell_type": "code",
      "source": [
        "from sklearn.metrics import mean_tweedie_deviance\n",
        "y_test = [3, 5, 2.5, 7]\n",
        "y_pred = [2.5, 5, 4, 8]\n",
        "print(mean_tweedie_deviance(y_test, y_pred, power = 0))\n",
        "print(mean_tweedie_deviance2(y_test, y_pred, p = 0))"
      ],
      "metadata": {
        "colab": {
          "base_uri": "https://localhost:8080/"
        },
        "outputId": "6585a7c3-9192-4784-afbf-7fe06cbc2c8b",
        "id": "FKD1NCt-7xdi"
      },
      "execution_count": 54,
      "outputs": [
        {
          "output_type": "stream",
          "name": "stdout",
          "text": [
            "0.875\n",
            "0.875\n"
          ]
        }
      ]
    },
    {
      "cell_type": "code",
      "source": [
        "from sklearn.metrics import mean_tweedie_deviance\n",
        "y_test = [3, 5, 2.5, 7]\n",
        "y_pred = [2.5, 5, 4, 8]\n",
        "print(mean_tweedie_deviance(y_test, y_pred, power = 1))\n",
        "print(mean_tweedie_deviance2(y_test, y_pred, p = 1))"
      ],
      "metadata": {
        "colab": {
          "base_uri": "https://localhost:8080/"
        },
        "id": "46PTU7bOSHlU",
        "outputId": "2379ba33-746f-4b18-99d8-570f08980566"
      },
      "execution_count": 55,
      "outputs": [
        {
          "output_type": "stream",
          "name": "stdout",
          "text": [
            "0.21861792444793338\n",
            "0.21861792444793338\n"
          ]
        }
      ]
    },
    {
      "cell_type": "code",
      "source": [
        "from sklearn.metrics import mean_tweedie_deviance\n",
        "y_test = [3, 5, 2.5, 7]\n",
        "y_pred = [2.5, 5, 4, 8]\n",
        "print(mean_tweedie_deviance(y_test, y_pred, power = 2))\n",
        "print(mean_tweedie_deviance2(y_test, y_pred, p = 2))"
      ],
      "metadata": {
        "colab": {
          "base_uri": "https://localhost:8080/"
        },
        "id": "FtUO-c5CSH9l",
        "outputId": "6fc63b9e-0337-4d87-d3f6-d8b37bb881ae"
      },
      "execution_count": 56,
      "outputs": [
        {
          "output_type": "stream",
          "name": "stdout",
          "text": [
            "0.06060673253815174\n",
            "0.06060673253815174\n"
          ]
        }
      ]
    },
    {
      "cell_type": "code",
      "source": [
        "from sklearn.metrics import mean_tweedie_deviance\n",
        "y_test = [3, 5, 2.5, 7]\n",
        "y_pred = [2.5, 5, 4, 8]\n",
        "print(mean_tweedie_deviance(y_test, y_pred, power = 3))\n",
        "print(mean_tweedie_deviance2(y_test, y_pred, p = 3))"
      ],
      "metadata": {
        "colab": {
          "base_uri": "https://localhost:8080/"
        },
        "id": "2pYmx4LzSIU9",
        "outputId": "6e509920-b728-48e4-d8c6-01100989043b"
      },
      "execution_count": 57,
      "outputs": [
        {
          "output_type": "stream",
          "name": "stdout",
          "text": [
            "0.017953869047619017\n",
            "0.017953869047619017\n"
          ]
        }
      ]
    },
    {
      "cell_type": "markdown",
      "source": [
        "#### Độ đo $pinball$"
      ],
      "metadata": {
        "id": "E0Lr4NSySTw9"
      }
    },
    {
      "cell_type": "markdown",
      "source": [
        "* Xây dựng hàm:"
      ],
      "metadata": {
        "id": "ayRI5kWBSTxC"
      }
    },
    {
      "cell_type": "code",
      "source": [
        "def mean_pinball_loss2(y_test, y_pred, alpha):\n",
        "    y_test = np.array(y_test)\n",
        "    y_pred = np.array(y_pred)\n",
        "    n = y_test.shape[0]\n",
        "    zeros = np.zeros(y_test.shape)\n",
        "    result = (1/n) * np.sum(alpha*np.max((y_test-y_pred, zeros), axis = 0)\\\n",
        "                        +(1-alpha)*np.max((y_pred-y_test, zeros), axis = 0))\n",
        "    return result"
      ],
      "metadata": {
        "id": "V89haEFLSTxC"
      },
      "execution_count": 68,
      "outputs": []
    },
    {
      "cell_type": "markdown",
      "source": [
        "* Kiểm tra:"
      ],
      "metadata": {
        "id": "1ZNGWv-nSTxC"
      }
    },
    {
      "cell_type": "code",
      "source": [
        "from sklearn.metrics import mean_pinball_loss\n",
        "y_test = [3, 5, 2.5, 7]\n",
        "y_pred = [2.5, 5, 4, 8]\n",
        "print(mean_pinball_loss(y_test, y_pred, alpha = 0.1))\n",
        "print(mean_pinball_loss2(y_test, y_pred, alpha = 0.1))"
      ],
      "metadata": {
        "colab": {
          "base_uri": "https://localhost:8080/"
        },
        "outputId": "02a5052b-5eeb-4bbc-ca8b-a2c238422df9",
        "id": "WIJhtxkdSTxC"
      },
      "execution_count": 69,
      "outputs": [
        {
          "output_type": "stream",
          "name": "stdout",
          "text": [
            "0.5750000000000001\n",
            "0.5750000000000001\n"
          ]
        }
      ]
    }
  ]
}