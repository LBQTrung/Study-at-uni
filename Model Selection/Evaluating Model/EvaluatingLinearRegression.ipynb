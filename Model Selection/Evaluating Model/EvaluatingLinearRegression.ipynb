{
  "nbformat": 4,
  "nbformat_minor": 0,
  "metadata": {
    "colab": {
      "provenance": []
    },
    "kernelspec": {
      "name": "python3",
      "display_name": "Python 3"
    },
    "language_info": {
      "name": "python"
    }
  },
  "cells": [
    {
      "cell_type": "markdown",
      "source": [
        "#### Import thư viện numpy:"
      ],
      "metadata": {
        "id": "jhrzIGTthR5Q"
      }
    },
    {
      "cell_type": "code",
      "source": [
        "import numpy as np"
      ],
      "metadata": {
        "id": "ni9fXj8yhVr8"
      },
      "execution_count": 1,
      "outputs": []
    },
    {
      "cell_type": "markdown",
      "source": [
        "#### Import dataset"
      ],
      "metadata": {
        "id": "2EPrbYschtyO"
      }
    },
    {
      "cell_type": "code",
      "source": [
        "dataset = np.loadtxt('ex1data2.txt', delimiter = ',')\n",
        "X = dataset[:, :-1]\n",
        "y = dataset[:, -1].reshape(-1, 1)"
      ],
      "metadata": {
        "id": "7NYzfC3khvca"
      },
      "execution_count": 2,
      "outputs": []
    },
    {
      "cell_type": "code",
      "source": [
        "X[:5, :]"
      ],
      "metadata": {
        "colab": {
          "base_uri": "https://localhost:8080/",
          "height": 0
        },
        "id": "llbVs3WajXWM",
        "outputId": "78324073-df32-49c0-ccf2-6802b4d617fa"
      },
      "execution_count": 3,
      "outputs": [
        {
          "output_type": "execute_result",
          "data": {
            "text/plain": [
              "array([[2.104e+03, 3.000e+00],\n",
              "       [1.600e+03, 3.000e+00],\n",
              "       [2.400e+03, 3.000e+00],\n",
              "       [1.416e+03, 2.000e+00],\n",
              "       [3.000e+03, 4.000e+00]])"
            ]
          },
          "metadata": {},
          "execution_count": 3
        }
      ]
    },
    {
      "cell_type": "code",
      "source": [
        "y[:5]"
      ],
      "metadata": {
        "colab": {
          "base_uri": "https://localhost:8080/",
          "height": 0
        },
        "id": "12QWQq7zjlGV",
        "outputId": "468e1581-c2aa-40c8-bfa2-5342a318fff8"
      },
      "execution_count": 4,
      "outputs": [
        {
          "output_type": "execute_result",
          "data": {
            "text/plain": [
              "array([[399900.],\n",
              "       [329900.],\n",
              "       [369000.],\n",
              "       [232000.],\n",
              "       [539900.]])"
            ]
          },
          "metadata": {},
          "execution_count": 4
        }
      ]
    },
    {
      "cell_type": "markdown",
      "source": [
        "#### Tách dataset thành training set và test set"
      ],
      "metadata": {
        "id": "9n7OTYpkiKdB"
      }
    },
    {
      "cell_type": "code",
      "source": [
        "from sklearn.model_selection import train_test_split\n",
        "X_train, X_test, y_train, y_test = train_test_split(X, y, test_size = 0.3,\n",
        "                                                    random_state = 15)"
      ],
      "metadata": {
        "id": "eCu7_U_PiN63"
      },
      "execution_count": 42,
      "outputs": []
    },
    {
      "cell_type": "markdown",
      "source": [
        "#### Feature Scaling"
      ],
      "metadata": {
        "id": "P8egsFDihwwO"
      }
    },
    {
      "cell_type": "code",
      "source": [
        "from sklearn.preprocessing import MinMaxScaler, StandardScaler\n",
        "sc_X = StandardScaler()\n",
        "sc_y = StandardScaler()\n",
        "\n",
        "X_train = sc_X.fit_transform(X_train)\n",
        "X_test = sc_X.transform(X_test)\n",
        "y_train = sc_y.fit_transform(y_train)\n",
        "y_test = sc_y.transform(y_test)"
      ],
      "metadata": {
        "id": "p420jj6fh6Kx"
      },
      "execution_count": 43,
      "outputs": []
    },
    {
      "cell_type": "code",
      "source": [
        "X_train[:5,:]"
      ],
      "metadata": {
        "colab": {
          "base_uri": "https://localhost:8080/",
          "height": 0
        },
        "outputId": "79e31709-c16e-4454-e800-ac7900a4d672",
        "id": "oWmpK1Ivqlv8"
      },
      "execution_count": 12,
      "outputs": [
        {
          "output_type": "execute_result",
          "data": {
            "text/plain": [
              "array([[ 0.2828729 ,  0.9486833 ],\n",
              "       [ 0.62450945, -0.31622777],\n",
              "       [-1.09802774, -0.31622777],\n",
              "       [-0.52384868, -0.31622777],\n",
              "       [-1.04204529, -0.31622777]])"
            ]
          },
          "metadata": {},
          "execution_count": 12
        }
      ]
    },
    {
      "cell_type": "code",
      "source": [
        "y_train[:5]"
      ],
      "metadata": {
        "colab": {
          "base_uri": "https://localhost:8080/",
          "height": 0
        },
        "outputId": "41302cd9-46eb-495c-be14-64aa2bc2a9c4",
        "id": "dsx2f_nUqlv9"
      },
      "execution_count": 13,
      "outputs": [
        {
          "output_type": "execute_result",
          "data": {
            "text/plain": [
              "array([[-0.38652346],\n",
              "       [ 0.27538405],\n",
              "       [-0.28965895],\n",
              "       [-0.04023283],\n",
              "       [-0.8474371 ]])"
            ]
          },
          "metadata": {},
          "execution_count": 13
        }
      ]
    },
    {
      "cell_type": "code",
      "source": [
        "X_test[:5, :]"
      ],
      "metadata": {
        "colab": {
          "base_uri": "https://localhost:8080/",
          "height": 0
        },
        "outputId": "ba2fac25-af0a-4ec9-a400-acb26dac6b41",
        "id": "XZPVVRKgqlv9"
      },
      "execution_count": 14,
      "outputs": [
        {
          "output_type": "execute_result",
          "data": {
            "text/plain": [
              "array([[-1.24157251, -0.31622777],\n",
              "       [ 2.76332646, -0.31622777],\n",
              "       [-0.78797105, -1.58113883],\n",
              "       [-0.18077669, -1.58113883],\n",
              "       [ 3.22984695,  0.9486833 ]])"
            ]
          },
          "metadata": {},
          "execution_count": 14
        }
      ]
    },
    {
      "cell_type": "code",
      "source": [
        "y_test[:5]"
      ],
      "metadata": {
        "colab": {
          "base_uri": "https://localhost:8080/",
          "height": 0
        },
        "id": "DGFvlnmLtWwU",
        "outputId": "f86a625e-a4e6-4949-adf9-c41de1ea963f"
      },
      "execution_count": 45,
      "outputs": [
        {
          "output_type": "execute_result",
          "data": {
            "text/plain": [
              "array([[-0.68599625],\n",
              "       [ 1.92934561],\n",
              "       [-0.83048581],\n",
              "       [ 0.12120803],\n",
              "       [ 1.72835175]])"
            ]
          },
          "metadata": {},
          "execution_count": 45
        }
      ]
    },
    {
      "cell_type": "markdown",
      "source": [
        "#### Training Linear Regression model đối với training set"
      ],
      "metadata": {
        "id": "-WaCbvnsiO-P"
      }
    },
    {
      "cell_type": "code",
      "source": [
        "from sklearn.linear_model import LinearRegression\n",
        "regressor = LinearRegression()\n",
        "regressor.fit(X_train, y_train)"
      ],
      "metadata": {
        "colab": {
          "base_uri": "https://localhost:8080/",
          "height": 0
        },
        "id": "thWvvr_JiWi1",
        "outputId": "2d619f3b-3792-467f-99fd-d2ad53cb1d99"
      },
      "execution_count": 46,
      "outputs": [
        {
          "output_type": "execute_result",
          "data": {
            "text/plain": [
              "LinearRegression()"
            ]
          },
          "metadata": {},
          "execution_count": 46
        }
      ]
    },
    {
      "cell_type": "code",
      "source": [
        "print('\\t\\tw optimal: ', regressor.coef_)"
      ],
      "metadata": {
        "colab": {
          "base_uri": "https://localhost:8080/",
          "height": 0
        },
        "id": "qKEEXUy9yPQp",
        "outputId": "3de01f5a-0aaa-41fe-ebd9-75a63253be8a"
      },
      "execution_count": 47,
      "outputs": [
        {
          "output_type": "stream",
          "name": "stdout",
          "text": [
            "\t\tw optimal:  [[ 0.94149823 -0.08796273]]\n"
          ]
        }
      ]
    },
    {
      "cell_type": "markdown",
      "source": [
        "#### Dự đoán giá trị ở test set"
      ],
      "metadata": {
        "id": "tnGXUjflhwlf"
      }
    },
    {
      "cell_type": "code",
      "source": [
        "y_pred = regressor.predict(X_test)"
      ],
      "metadata": {
        "id": "rhdTkwrOhzs2"
      },
      "execution_count": 48,
      "outputs": []
    },
    {
      "cell_type": "code",
      "source": [
        "y_pred[:5]"
      ],
      "metadata": {
        "colab": {
          "base_uri": "https://localhost:8080/",
          "height": 0
        },
        "id": "5-5EwEi2iLSs",
        "outputId": "1e17d51c-b5e6-445d-f0ed-8a9c62ad11ac"
      },
      "execution_count": 53,
      "outputs": [
        {
          "output_type": "execute_result",
          "data": {
            "text/plain": [
              "array([[-1.14112207],\n",
              "       [ 2.62948324],\n",
              "       [-0.60279207],\n",
              "       [-0.03111965],\n",
              "       [ 2.95744643]])"
            ]
          },
          "metadata": {},
          "execution_count": 53
        }
      ]
    },
    {
      "cell_type": "markdown",
      "source": [
        "#### Đánh giá mô hình bằng một vài độ đo lỗi"
      ],
      "metadata": {
        "id": "mNGt-oTVibmc"
      }
    },
    {
      "cell_type": "code",
      "source": [
        "from sklearn.metrics import mean_absolute_error\n",
        "print(f\"MAE: {mean_absolute_error(y_test, y_pred)}\")"
      ],
      "metadata": {
        "colab": {
          "base_uri": "https://localhost:8080/",
          "height": 0
        },
        "id": "WPNdp52KhsTY",
        "outputId": "a3192713-4718-462b-9ce6-69f7f9bb1286"
      },
      "execution_count": 51,
      "outputs": [
        {
          "output_type": "stream",
          "name": "stdout",
          "text": [
            "MAE: 0.5283983953889438\n"
          ]
        }
      ]
    },
    {
      "cell_type": "code",
      "source": [
        "from sklearn.metrics import mean_squared_error\n",
        "print(f\"MSE: {mean_squared_error(y_test, y_pred)}\")"
      ],
      "metadata": {
        "colab": {
          "base_uri": "https://localhost:8080/",
          "height": 0
        },
        "id": "ZDIOmqJnjjNj",
        "outputId": "3f74d3e1-be00-4fbe-b26c-107c3b1fc203"
      },
      "execution_count": 52,
      "outputs": [
        {
          "output_type": "stream",
          "name": "stdout",
          "text": [
            "MSE: 0.46209520688703887\n"
          ]
        }
      ]
    }
  ]
}