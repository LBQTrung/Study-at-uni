{
  "nbformat": 4,
  "nbformat_minor": 0,
  "metadata": {
    "colab": {
      "provenance": []
    },
    "kernelspec": {
      "name": "python3",
      "display_name": "Python 3"
    },
    "language_info": {
      "name": "python"
    }
  },
  "cells": [
    {
      "cell_type": "markdown",
      "source": [
        "### BÀI ÔN TẬP KIẾN THỨC TOÁN VÀ LẬP TRÌNH"
      ],
      "metadata": {
        "id": "oSyBP4Jcw4_Y"
      }
    },
    {
      "cell_type": "code",
      "source": [
        "import numpy as np"
      ],
      "metadata": {
        "id": "2h9UgJevxiYs"
      },
      "execution_count": 2,
      "outputs": []
    },
    {
      "cell_type": "markdown",
      "source": [
        "### 1. Các phép toán với vector"
      ],
      "metadata": {
        "id": "7PgKm5ItxF3c"
      }
    },
    {
      "cell_type": "markdown",
      "source": [
        "* **Phép cộng 2 vector**"
      ],
      "metadata": {
        "id": "hVU1xIhnxMgU"
      }
    },
    {
      "cell_type": "code",
      "source": [
        "x = np.array([1, 3, 5, 7])\n",
        "y = np.array([2, 4, 6, 8])\n",
        "z = x + y"
      ],
      "metadata": {
        "id": "pCUFpOWKxT_V"
      },
      "execution_count": 3,
      "outputs": []
    },
    {
      "cell_type": "code",
      "source": [
        "z"
      ],
      "metadata": {
        "colab": {
          "base_uri": "https://localhost:8080/"
        },
        "id": "TFjAdmY5xon8",
        "outputId": "88ed67b4-97d8-46c4-e5be-c1a69da01254"
      },
      "execution_count": 4,
      "outputs": [
        {
          "output_type": "execute_result",
          "data": {
            "text/plain": [
              "array([ 3,  7, 11, 15])"
            ]
          },
          "metadata": {},
          "execution_count": 4
        }
      ]
    },
    {
      "cell_type": "code",
      "source": [
        "z.ndim"
      ],
      "metadata": {
        "colab": {
          "base_uri": "https://localhost:8080/"
        },
        "id": "Zmw-8guOxpRt",
        "outputId": "fa8d9f98-8eeb-41d6-d2a5-d156f3d86ad7"
      },
      "execution_count": 5,
      "outputs": [
        {
          "output_type": "execute_result",
          "data": {
            "text/plain": [
              "1"
            ]
          },
          "metadata": {},
          "execution_count": 5
        }
      ]
    },
    {
      "cell_type": "code",
      "source": [
        "z.shape"
      ],
      "metadata": {
        "colab": {
          "base_uri": "https://localhost:8080/"
        },
        "id": "zTVyEABpxqTe",
        "outputId": "6eb29728-ded8-474e-ab66-122767184000"
      },
      "execution_count": 6,
      "outputs": [
        {
          "output_type": "execute_result",
          "data": {
            "text/plain": [
              "(4,)"
            ]
          },
          "metadata": {},
          "execution_count": 6
        }
      ]
    },
    {
      "cell_type": "markdown",
      "source": [
        "* **Phép nhân 1 đại lượng vô hướng với 1 vector**:"
      ],
      "metadata": {
        "id": "z2FbgLnLxsKN"
      }
    },
    {
      "cell_type": "code",
      "source": [
        "x = np.array([1, 3, 5, 7])\n",
        "a = 15\n",
        "z = a*x"
      ],
      "metadata": {
        "id": "G8aZTUlKx6Xi"
      },
      "execution_count": 7,
      "outputs": []
    },
    {
      "cell_type": "code",
      "source": [
        "z"
      ],
      "metadata": {
        "colab": {
          "base_uri": "https://localhost:8080/"
        },
        "id": "6rWrt9pax_nY",
        "outputId": "f9b7dc81-28ed-4cc7-ca2d-d46bc6c8ff99"
      },
      "execution_count": 8,
      "outputs": [
        {
          "output_type": "execute_result",
          "data": {
            "text/plain": [
              "array([ 15,  45,  75, 105])"
            ]
          },
          "metadata": {},
          "execution_count": 8
        }
      ]
    },
    {
      "cell_type": "code",
      "source": [
        "z.ndim"
      ],
      "metadata": {
        "colab": {
          "base_uri": "https://localhost:8080/"
        },
        "id": "t5FcEvwKyAo5",
        "outputId": "8da64666-b9c9-4dd2-fa6f-c1d68e92e54d"
      },
      "execution_count": 9,
      "outputs": [
        {
          "output_type": "execute_result",
          "data": {
            "text/plain": [
              "1"
            ]
          },
          "metadata": {},
          "execution_count": 9
        }
      ]
    },
    {
      "cell_type": "code",
      "source": [
        "z.shape"
      ],
      "metadata": {
        "colab": {
          "base_uri": "https://localhost:8080/"
        },
        "id": "PgyqVVsGyDB7",
        "outputId": "ba113195-0254-43b7-c0c2-7fe4e8666fd0"
      },
      "execution_count": 10,
      "outputs": [
        {
          "output_type": "execute_result",
          "data": {
            "text/plain": [
              "(4,)"
            ]
          },
          "metadata": {},
          "execution_count": 10
        }
      ]
    },
    {
      "cell_type": "markdown",
      "source": [
        "* **Phép tính vô hướng của hai vector**"
      ],
      "metadata": {
        "id": "u7MWawaiyGwy"
      }
    },
    {
      "cell_type": "code",
      "source": [
        "x = np.array([1, 3, 5, 7])\n",
        "y = np.array([2, 4, 6, 8])\n",
        "z = np.dot(x,y)"
      ],
      "metadata": {
        "id": "_vi2t3oQyLK6"
      },
      "execution_count": 11,
      "outputs": []
    },
    {
      "cell_type": "code",
      "source": [
        "z"
      ],
      "metadata": {
        "colab": {
          "base_uri": "https://localhost:8080/"
        },
        "id": "xU5r2XEHyTra",
        "outputId": "5a92c873-0006-41e7-c989-5da99e609b3a"
      },
      "execution_count": 12,
      "outputs": [
        {
          "output_type": "execute_result",
          "data": {
            "text/plain": [
              "100"
            ]
          },
          "metadata": {},
          "execution_count": 12
        }
      ]
    },
    {
      "cell_type": "code",
      "source": [
        "z.ndim"
      ],
      "metadata": {
        "colab": {
          "base_uri": "https://localhost:8080/"
        },
        "id": "scgdqoqJyUuk",
        "outputId": "a36217b5-3bc9-4507-d850-acb018192361"
      },
      "execution_count": 14,
      "outputs": [
        {
          "output_type": "execute_result",
          "data": {
            "text/plain": [
              "0"
            ]
          },
          "metadata": {},
          "execution_count": 14
        }
      ]
    },
    {
      "cell_type": "code",
      "source": [
        "z.shape"
      ],
      "metadata": {
        "colab": {
          "base_uri": "https://localhost:8080/"
        },
        "id": "TctK9pc4yWfl",
        "outputId": "08566b39-84fd-4545-a9cd-cf4c2fb269a0"
      },
      "execution_count": 15,
      "outputs": [
        {
          "output_type": "execute_result",
          "data": {
            "text/plain": [
              "()"
            ]
          },
          "metadata": {},
          "execution_count": 15
        }
      ]
    },
    {
      "cell_type": "markdown",
      "source": [
        "* **Phép tích hữu hướng (cross product) 2 vector**"
      ],
      "metadata": {
        "id": "tDp9KarEyZRM"
      }
    },
    {
      "cell_type": "code",
      "source": [
        "x = np.array([1,3,5])\n",
        "y = np.array([2,4,6])\n",
        "z = np.cross(x, y)"
      ],
      "metadata": {
        "id": "Mk5dlecRykoJ"
      },
      "execution_count": 16,
      "outputs": []
    },
    {
      "cell_type": "code",
      "source": [
        "z"
      ],
      "metadata": {
        "colab": {
          "base_uri": "https://localhost:8080/"
        },
        "id": "r-j-bwRgy_Cb",
        "outputId": "bf85ca75-55c5-4ba3-b126-8a0358fbcf3e"
      },
      "execution_count": 17,
      "outputs": [
        {
          "output_type": "execute_result",
          "data": {
            "text/plain": [
              "array([-2,  4, -2])"
            ]
          },
          "metadata": {},
          "execution_count": 17
        }
      ]
    },
    {
      "cell_type": "code",
      "source": [
        "z.ndim"
      ],
      "metadata": {
        "colab": {
          "base_uri": "https://localhost:8080/"
        },
        "id": "8McKmIA7y_bt",
        "outputId": "16024a14-0d0d-475e-e1b0-ec2f238b06d5"
      },
      "execution_count": 18,
      "outputs": [
        {
          "output_type": "execute_result",
          "data": {
            "text/plain": [
              "1"
            ]
          },
          "metadata": {},
          "execution_count": 18
        }
      ]
    },
    {
      "cell_type": "code",
      "source": [
        "z.shape"
      ],
      "metadata": {
        "colab": {
          "base_uri": "https://localhost:8080/"
        },
        "id": "5L444DoNzAcD",
        "outputId": "4000d561-1e61-478b-8067-c269c488fa5d"
      },
      "execution_count": 19,
      "outputs": [
        {
          "output_type": "execute_result",
          "data": {
            "text/plain": [
              "(3,)"
            ]
          },
          "metadata": {},
          "execution_count": 19
        }
      ]
    },
    {
      "cell_type": "markdown",
      "source": [
        "* **Phép nhân các phần tử có vị trí tương ứng (elementwise multiplication) 2 vector**"
      ],
      "metadata": {
        "id": "rTHPR6qNzaEb"
      }
    },
    {
      "cell_type": "code",
      "source": [
        "x = np.array([1,3,5])\n",
        "y = np.array([2,4,6])\n",
        "z = x*y"
      ],
      "metadata": {
        "id": "s8Zg4XWwzn8e"
      },
      "execution_count": 20,
      "outputs": []
    },
    {
      "cell_type": "code",
      "source": [
        "z"
      ],
      "metadata": {
        "colab": {
          "base_uri": "https://localhost:8080/"
        },
        "id": "ZM8g84_xzrSm",
        "outputId": "2bd85b29-9c44-4ea7-a011-76f2aa1627ff"
      },
      "execution_count": 21,
      "outputs": [
        {
          "output_type": "execute_result",
          "data": {
            "text/plain": [
              "array([ 2, 12, 30])"
            ]
          },
          "metadata": {},
          "execution_count": 21
        }
      ]
    },
    {
      "cell_type": "code",
      "source": [
        "z.ndim"
      ],
      "metadata": {
        "colab": {
          "base_uri": "https://localhost:8080/"
        },
        "id": "PgHP213NzsDu",
        "outputId": "a6519515-3663-4ad5-a9a9-da3665dacc25"
      },
      "execution_count": 22,
      "outputs": [
        {
          "output_type": "execute_result",
          "data": {
            "text/plain": [
              "1"
            ]
          },
          "metadata": {},
          "execution_count": 22
        }
      ]
    },
    {
      "cell_type": "code",
      "source": [
        "z.shape"
      ],
      "metadata": {
        "colab": {
          "base_uri": "https://localhost:8080/"
        },
        "id": "v-vR6IrFztD5",
        "outputId": "55f790d4-589f-4009-df41-b4f8098ae8b4"
      },
      "execution_count": 23,
      "outputs": [
        {
          "output_type": "execute_result",
          "data": {
            "text/plain": [
              "(3,)"
            ]
          },
          "metadata": {},
          "execution_count": 23
        }
      ]
    },
    {
      "cell_type": "markdown",
      "source": [
        "### 2. Các phép toán với ma trận"
      ],
      "metadata": {
        "id": "HFIFuoyMz0qu"
      }
    },
    {
      "cell_type": "markdown",
      "source": [
        "* **Phép cộng 2 ma trận**"
      ],
      "metadata": {
        "id": "qx7dsXgZz7tO"
      }
    },
    {
      "cell_type": "code",
      "source": [
        "X = np.array([1,2,3,4,5,6,7,8,9]).reshape((3,3))\n",
        "Y = np.array([1,4,5,6,7,3,4,5,6]).reshape((3,3))\n",
        "Z = X + Y"
      ],
      "metadata": {
        "id": "Qdhm_Y3Y0XDe"
      },
      "execution_count": 24,
      "outputs": []
    },
    {
      "cell_type": "code",
      "source": [
        "Z"
      ],
      "metadata": {
        "colab": {
          "base_uri": "https://localhost:8080/"
        },
        "id": "C7n6odC80nSF",
        "outputId": "db256ad2-423e-4a58-c7b1-a60174fc2905"
      },
      "execution_count": 26,
      "outputs": [
        {
          "output_type": "execute_result",
          "data": {
            "text/plain": [
              "array([[ 2,  6,  8],\n",
              "       [10, 12,  9],\n",
              "       [11, 13, 15]])"
            ]
          },
          "metadata": {},
          "execution_count": 26
        }
      ]
    },
    {
      "cell_type": "code",
      "source": [
        "Z.ndim"
      ],
      "metadata": {
        "colab": {
          "base_uri": "https://localhost:8080/"
        },
        "id": "bZnIHvsh0pdt",
        "outputId": "60f7b1c2-7b87-4e56-ffd5-7e48719a7ddd"
      },
      "execution_count": 27,
      "outputs": [
        {
          "output_type": "execute_result",
          "data": {
            "text/plain": [
              "2"
            ]
          },
          "metadata": {},
          "execution_count": 27
        }
      ]
    },
    {
      "cell_type": "code",
      "source": [
        "Z.shape"
      ],
      "metadata": {
        "colab": {
          "base_uri": "https://localhost:8080/"
        },
        "id": "-Z8am_Uh0qct",
        "outputId": "1de8305f-d7a6-4f5b-e57b-8382efd4185a"
      },
      "execution_count": 28,
      "outputs": [
        {
          "output_type": "execute_result",
          "data": {
            "text/plain": [
              "(3, 3)"
            ]
          },
          "metadata": {},
          "execution_count": 28
        }
      ]
    },
    {
      "cell_type": "markdown",
      "source": [
        "* **Phép nhân ma trận với 1 đại lượng vô hướng**"
      ],
      "metadata": {
        "id": "exwrenWMz_MN"
      }
    },
    {
      "cell_type": "code",
      "source": [
        "X = np.array([1,2,3,4,5,6,7,8,9]).reshape((3,3))\n",
        "a = 3\n",
        "Z = a*X"
      ],
      "metadata": {
        "id": "4QegNbci03EO"
      },
      "execution_count": 29,
      "outputs": []
    },
    {
      "cell_type": "code",
      "source": [
        "Z"
      ],
      "metadata": {
        "colab": {
          "base_uri": "https://localhost:8080/"
        },
        "id": "KTKb3Bcp07qW",
        "outputId": "da69ecbf-7803-4243-ea00-5bed162c7bac"
      },
      "execution_count": 30,
      "outputs": [
        {
          "output_type": "execute_result",
          "data": {
            "text/plain": [
              "array([[ 3,  6,  9],\n",
              "       [12, 15, 18],\n",
              "       [21, 24, 27]])"
            ]
          },
          "metadata": {},
          "execution_count": 30
        }
      ]
    },
    {
      "cell_type": "code",
      "source": [
        "Z.ndim"
      ],
      "metadata": {
        "colab": {
          "base_uri": "https://localhost:8080/"
        },
        "id": "dDQFtUtq08Oo",
        "outputId": "67cff296-bceb-4a8e-dfbc-c4d0d7b878dc"
      },
      "execution_count": 31,
      "outputs": [
        {
          "output_type": "execute_result",
          "data": {
            "text/plain": [
              "2"
            ]
          },
          "metadata": {},
          "execution_count": 31
        }
      ]
    },
    {
      "cell_type": "code",
      "source": [
        "Z.shape"
      ],
      "metadata": {
        "colab": {
          "base_uri": "https://localhost:8080/"
        },
        "id": "WsUtwOQa09X-",
        "outputId": "1e0389da-2739-47ea-eef2-fcce09b01545"
      },
      "execution_count": 32,
      "outputs": [
        {
          "output_type": "execute_result",
          "data": {
            "text/plain": [
              "(3, 3)"
            ]
          },
          "metadata": {},
          "execution_count": 32
        }
      ]
    },
    {
      "cell_type": "markdown",
      "source": [
        "* **Phép chuyển vị ma trận (transpose)**"
      ],
      "metadata": {
        "id": "C-y4po_Y0DmB"
      }
    },
    {
      "cell_type": "code",
      "source": [
        "X = np.array([4,5,6,7,8,9]).reshape((2,3))\n",
        "Z = X.T"
      ],
      "metadata": {
        "id": "f4F8peuS1Cne"
      },
      "execution_count": 34,
      "outputs": []
    },
    {
      "cell_type": "code",
      "source": [
        "Z"
      ],
      "metadata": {
        "colab": {
          "base_uri": "https://localhost:8080/"
        },
        "id": "SM88RcNL1Ktq",
        "outputId": "e8fe9106-4f96-4e84-f41f-4a5af24d3eca"
      },
      "execution_count": 35,
      "outputs": [
        {
          "output_type": "execute_result",
          "data": {
            "text/plain": [
              "array([[4, 7],\n",
              "       [5, 8],\n",
              "       [6, 9]])"
            ]
          },
          "metadata": {},
          "execution_count": 35
        }
      ]
    },
    {
      "cell_type": "code",
      "source": [
        "Z.ndim"
      ],
      "metadata": {
        "colab": {
          "base_uri": "https://localhost:8080/"
        },
        "id": "O21-15HB1LMy",
        "outputId": "7c257498-65ac-4999-a19d-e358a7384019"
      },
      "execution_count": 36,
      "outputs": [
        {
          "output_type": "execute_result",
          "data": {
            "text/plain": [
              "2"
            ]
          },
          "metadata": {},
          "execution_count": 36
        }
      ]
    },
    {
      "cell_type": "code",
      "source": [
        "Z.shape"
      ],
      "metadata": {
        "colab": {
          "base_uri": "https://localhost:8080/"
        },
        "id": "67743u9r1Mj6",
        "outputId": "cbfa6967-289a-4854-c41a-d2af16313373"
      },
      "execution_count": 37,
      "outputs": [
        {
          "output_type": "execute_result",
          "data": {
            "text/plain": [
              "(3, 2)"
            ]
          },
          "metadata": {},
          "execution_count": 37
        }
      ]
    },
    {
      "cell_type": "markdown",
      "source": [
        "* **Phép nhân 2 ma trận**"
      ],
      "metadata": {
        "id": "2uFj-OxO0HB4"
      }
    },
    {
      "cell_type": "code",
      "source": [
        "X = np.array([4,5,6,7,8,9]).reshape((2,3))\n",
        "Y = np.array([1,4,5,6,7,3,4,5,6]).reshape((3,3))\n",
        "Z = np.dot(X, Y)"
      ],
      "metadata": {
        "id": "5l3rfDMk1Ohy"
      },
      "execution_count": 38,
      "outputs": []
    },
    {
      "cell_type": "code",
      "source": [
        "Z"
      ],
      "metadata": {
        "colab": {
          "base_uri": "https://localhost:8080/"
        },
        "id": "pnsWyh2Q1WFC",
        "outputId": "e38a03ac-9cfd-4c5b-a2ae-872b4a5cd35e"
      },
      "execution_count": 39,
      "outputs": [
        {
          "output_type": "execute_result",
          "data": {
            "text/plain": [
              "array([[ 58,  81,  71],\n",
              "       [ 91, 129, 113]])"
            ]
          },
          "metadata": {},
          "execution_count": 39
        }
      ]
    },
    {
      "cell_type": "code",
      "source": [
        "Z.ndim"
      ],
      "metadata": {
        "colab": {
          "base_uri": "https://localhost:8080/"
        },
        "id": "UvhZjvxu1Wv-",
        "outputId": "b745a18d-3cda-4ae2-d862-274988ba8725"
      },
      "execution_count": 40,
      "outputs": [
        {
          "output_type": "execute_result",
          "data": {
            "text/plain": [
              "2"
            ]
          },
          "metadata": {},
          "execution_count": 40
        }
      ]
    },
    {
      "cell_type": "code",
      "source": [
        "Z.shape"
      ],
      "metadata": {
        "colab": {
          "base_uri": "https://localhost:8080/"
        },
        "id": "B4jPwFbx1X-G",
        "outputId": "04fc4b07-f9be-4bfb-dd6c-85506586a37c"
      },
      "execution_count": 41,
      "outputs": [
        {
          "output_type": "execute_result",
          "data": {
            "text/plain": [
              "(2, 3)"
            ]
          },
          "metadata": {},
          "execution_count": 41
        }
      ]
    },
    {
      "cell_type": "markdown",
      "source": [
        "* **Phép nhân các phần tử có vị trí tương đương (elementwise multiplication hay còn gọi là Hadamard product) của 2 ma trận**"
      ],
      "metadata": {
        "id": "a1wW0q-D0Mzw"
      }
    },
    {
      "cell_type": "code",
      "source": [
        "X = np.array([1,2,3,4,5,6,7,8,9]).reshape((3,3))\n",
        "Y = np.array([1,4,5,6,7,3,4,5,6]).reshape((3,3))\n",
        "Z = X * Y"
      ],
      "metadata": {
        "id": "OGy0vH6Y19Hk"
      },
      "execution_count": 42,
      "outputs": []
    },
    {
      "cell_type": "code",
      "source": [
        "Z"
      ],
      "metadata": {
        "colab": {
          "base_uri": "https://localhost:8080/"
        },
        "id": "KuOL0Pxu2DrN",
        "outputId": "6dfa9fc0-71e7-4be4-8765-0c7821ce0114"
      },
      "execution_count": 43,
      "outputs": [
        {
          "output_type": "execute_result",
          "data": {
            "text/plain": [
              "array([[ 1,  8, 15],\n",
              "       [24, 35, 18],\n",
              "       [28, 40, 54]])"
            ]
          },
          "metadata": {},
          "execution_count": 43
        }
      ]
    },
    {
      "cell_type": "code",
      "source": [
        "Z.ndim"
      ],
      "metadata": {
        "colab": {
          "base_uri": "https://localhost:8080/"
        },
        "id": "012oaKfV2EL0",
        "outputId": "ec1a9cdd-d98a-4e70-d294-abb474622ba4"
      },
      "execution_count": 44,
      "outputs": [
        {
          "output_type": "execute_result",
          "data": {
            "text/plain": [
              "2"
            ]
          },
          "metadata": {},
          "execution_count": 44
        }
      ]
    },
    {
      "cell_type": "code",
      "source": [
        "Z.shape"
      ],
      "metadata": {
        "colab": {
          "base_uri": "https://localhost:8080/"
        },
        "id": "EFJWmjpA2FP0",
        "outputId": "0061011b-304b-44fa-8eca-166ef7bb776f"
      },
      "execution_count": 45,
      "outputs": [
        {
          "output_type": "execute_result",
          "data": {
            "text/plain": [
              "(3, 3)"
            ]
          },
          "metadata": {},
          "execution_count": 45
        }
      ]
    },
    {
      "cell_type": "markdown",
      "source": [
        "* **Tạo ma trận cột dạng đặc biệt $R^{m\\times 1}$**"
      ],
      "metadata": {
        "id": "W_nu57p72H8t"
      }
    },
    {
      "cell_type": "code",
      "source": [
        "X = np.array([1,2,3,4,5,6,7,8,9]).reshape((-1,1))"
      ],
      "metadata": {
        "id": "H9jwyk_t2Zt1"
      },
      "execution_count": 46,
      "outputs": []
    },
    {
      "cell_type": "code",
      "source": [
        "X"
      ],
      "metadata": {
        "colab": {
          "base_uri": "https://localhost:8080/"
        },
        "id": "mop8jsKI2c1O",
        "outputId": "720cceb2-bb69-4ba8-e45d-4a41f4fec4b8"
      },
      "execution_count": 47,
      "outputs": [
        {
          "output_type": "execute_result",
          "data": {
            "text/plain": [
              "array([[1],\n",
              "       [2],\n",
              "       [3],\n",
              "       [4],\n",
              "       [5],\n",
              "       [6],\n",
              "       [7],\n",
              "       [8],\n",
              "       [9]])"
            ]
          },
          "metadata": {},
          "execution_count": 47
        }
      ]
    },
    {
      "cell_type": "code",
      "source": [
        "X.ndim"
      ],
      "metadata": {
        "colab": {
          "base_uri": "https://localhost:8080/"
        },
        "id": "s0QzsNY12eTe",
        "outputId": "fff926cf-ba3a-480b-d0b4-4c91d15577a5"
      },
      "execution_count": 48,
      "outputs": [
        {
          "output_type": "execute_result",
          "data": {
            "text/plain": [
              "2"
            ]
          },
          "metadata": {},
          "execution_count": 48
        }
      ]
    },
    {
      "cell_type": "code",
      "source": [
        "X.shape"
      ],
      "metadata": {
        "colab": {
          "base_uri": "https://localhost:8080/"
        },
        "id": "vtZx5pZ72fY-",
        "outputId": "17699f82-53bf-486d-b8df-a8f590b00b17"
      },
      "execution_count": 49,
      "outputs": [
        {
          "output_type": "execute_result",
          "data": {
            "text/plain": [
              "(9, 1)"
            ]
          },
          "metadata": {},
          "execution_count": 49
        }
      ]
    },
    {
      "cell_type": "markdown",
      "source": [
        "* **Lấy ra 1 vector hàng từ ma trận X và chuyển thành ma trận đặc biệt dạng $R^{1×n}$**"
      ],
      "metadata": {
        "id": "X5ffZyxK2hv_"
      }
    },
    {
      "cell_type": "code",
      "source": [
        "X = np.array([1,2,3,4,5,6,7,8,9]).reshape((3,3))\n",
        "z = X[0, :].reshape(1, -1)"
      ],
      "metadata": {
        "id": "RN5RY_1J2pJe"
      },
      "execution_count": 56,
      "outputs": []
    },
    {
      "cell_type": "code",
      "source": [
        "z"
      ],
      "metadata": {
        "colab": {
          "base_uri": "https://localhost:8080/"
        },
        "id": "AzhisraI3Hj9",
        "outputId": "6523590d-ea9d-4500-856c-a07a821c18be"
      },
      "execution_count": 57,
      "outputs": [
        {
          "output_type": "execute_result",
          "data": {
            "text/plain": [
              "array([[1, 2, 3]])"
            ]
          },
          "metadata": {},
          "execution_count": 57
        }
      ]
    },
    {
      "cell_type": "code",
      "source": [
        "z.ndim"
      ],
      "metadata": {
        "colab": {
          "base_uri": "https://localhost:8080/"
        },
        "id": "0whQ4Gx93M0d",
        "outputId": "3ebe6b70-6689-4944-d131-bbbcea2bfa6c"
      },
      "execution_count": 58,
      "outputs": [
        {
          "output_type": "execute_result",
          "data": {
            "text/plain": [
              "2"
            ]
          },
          "metadata": {},
          "execution_count": 58
        }
      ]
    },
    {
      "cell_type": "code",
      "source": [
        "z.shape"
      ],
      "metadata": {
        "colab": {
          "base_uri": "https://localhost:8080/"
        },
        "id": "fXr9hybk3TOV",
        "outputId": "e86a83ef-642b-4217-d02d-888419988de9"
      },
      "execution_count": 59,
      "outputs": [
        {
          "output_type": "execute_result",
          "data": {
            "text/plain": [
              "(1, 3)"
            ]
          },
          "metadata": {},
          "execution_count": 59
        }
      ]
    },
    {
      "cell_type": "markdown",
      "source": [
        "* **Xếp thêm 1 vector cột vào đầu ma trận: $x ∈ R^m$ hay $x ∈ R^{m×1}, X ∈ R^{m×n}$**"
      ],
      "metadata": {
        "id": "y5qa-EQm3i5t"
      }
    },
    {
      "cell_type": "code",
      "source": [
        "X = np.array([1,2,3,4,5,6,7,8,9]).reshape((3,3))\n",
        "z = np.ones((X.shape[0], 1))\n",
        "X = np.concatenate((z, X), axis = 1)"
      ],
      "metadata": {
        "id": "JQjIK3EZ3wPV"
      },
      "execution_count": 60,
      "outputs": []
    },
    {
      "cell_type": "code",
      "source": [
        "X"
      ],
      "metadata": {
        "colab": {
          "base_uri": "https://localhost:8080/"
        },
        "id": "WYWaWkLJ4J5d",
        "outputId": "227ca3b3-162b-4b8d-d279-b1370a318885"
      },
      "execution_count": 61,
      "outputs": [
        {
          "output_type": "execute_result",
          "data": {
            "text/plain": [
              "array([[1., 1., 2., 3.],\n",
              "       [1., 4., 5., 6.],\n",
              "       [1., 7., 8., 9.]])"
            ]
          },
          "metadata": {},
          "execution_count": 61
        }
      ]
    },
    {
      "cell_type": "code",
      "source": [
        "X.ndim"
      ],
      "metadata": {
        "colab": {
          "base_uri": "https://localhost:8080/"
        },
        "id": "nJ3cZs_f4LhA",
        "outputId": "8ca3c98b-584a-4770-b41f-38f0ea26224e"
      },
      "execution_count": 62,
      "outputs": [
        {
          "output_type": "execute_result",
          "data": {
            "text/plain": [
              "2"
            ]
          },
          "metadata": {},
          "execution_count": 62
        }
      ]
    },
    {
      "cell_type": "code",
      "source": [
        "X.shape"
      ],
      "metadata": {
        "colab": {
          "base_uri": "https://localhost:8080/"
        },
        "id": "U70LqGS-4Nsw",
        "outputId": "024bea8a-0324-4f28-88d3-8e596f7e24aa"
      },
      "execution_count": 63,
      "outputs": [
        {
          "output_type": "execute_result",
          "data": {
            "text/plain": [
              "(3, 4)"
            ]
          },
          "metadata": {},
          "execution_count": 63
        }
      ]
    },
    {
      "cell_type": "markdown",
      "source": [
        "* **Tách 1 ma trận data ban đầu gồm n cột thành 1 ma trận con X chứa các n-1 cột đầu tiên và 1 vector cột y lấy ra từ cột cuối cùng của data.**"
      ],
      "metadata": {
        "id": "_YS5vRkd4RdJ"
      }
    },
    {
      "cell_type": "code",
      "source": [
        "data = np.array([1,2,3,4,5,6,7,8,9]).reshape((3,3))\n",
        "X = data[:, :-1]\n",
        "y = data[:, -1].reshape(-1, 1)"
      ],
      "metadata": {
        "id": "QXfnWsQc4VDo"
      },
      "execution_count": 65,
      "outputs": []
    },
    {
      "cell_type": "code",
      "source": [
        "X"
      ],
      "metadata": {
        "colab": {
          "base_uri": "https://localhost:8080/"
        },
        "id": "3l7N3ixc4hMz",
        "outputId": "ff34b00d-30e6-4a3a-b136-6982a7c665bc"
      },
      "execution_count": 66,
      "outputs": [
        {
          "output_type": "execute_result",
          "data": {
            "text/plain": [
              "array([[1, 2],\n",
              "       [4, 5],\n",
              "       [7, 8]])"
            ]
          },
          "metadata": {},
          "execution_count": 66
        }
      ]
    },
    {
      "cell_type": "code",
      "source": [
        "X.ndim"
      ],
      "metadata": {
        "colab": {
          "base_uri": "https://localhost:8080/"
        },
        "id": "iIVR0S9m4n_3",
        "outputId": "72bdfe04-3582-4a03-a880-6421e4ae04da"
      },
      "execution_count": 67,
      "outputs": [
        {
          "output_type": "execute_result",
          "data": {
            "text/plain": [
              "2"
            ]
          },
          "metadata": {},
          "execution_count": 67
        }
      ]
    },
    {
      "cell_type": "code",
      "source": [
        "X.shape"
      ],
      "metadata": {
        "colab": {
          "base_uri": "https://localhost:8080/"
        },
        "id": "u88YcSLw4qD4",
        "outputId": "a4be2b3e-5572-446b-9e94-c1ce9279c740"
      },
      "execution_count": 68,
      "outputs": [
        {
          "output_type": "execute_result",
          "data": {
            "text/plain": [
              "(3, 2)"
            ]
          },
          "metadata": {},
          "execution_count": 68
        }
      ]
    },
    {
      "cell_type": "code",
      "source": [
        "y"
      ],
      "metadata": {
        "colab": {
          "base_uri": "https://localhost:8080/"
        },
        "id": "qeThbIRT4rfP",
        "outputId": "f19506e0-25b0-4e07-847f-d8e732dc56ff"
      },
      "execution_count": 69,
      "outputs": [
        {
          "output_type": "execute_result",
          "data": {
            "text/plain": [
              "array([[3],\n",
              "       [6],\n",
              "       [9]])"
            ]
          },
          "metadata": {},
          "execution_count": 69
        }
      ]
    },
    {
      "cell_type": "code",
      "source": [
        "y.ndim"
      ],
      "metadata": {
        "colab": {
          "base_uri": "https://localhost:8080/"
        },
        "id": "LGuadgtj4sRn",
        "outputId": "b28d5d2f-79c2-419d-b520-b8912350cfbd"
      },
      "execution_count": 70,
      "outputs": [
        {
          "output_type": "execute_result",
          "data": {
            "text/plain": [
              "2"
            ]
          },
          "metadata": {},
          "execution_count": 70
        }
      ]
    },
    {
      "cell_type": "code",
      "source": [
        "y.shape"
      ],
      "metadata": {
        "colab": {
          "base_uri": "https://localhost:8080/"
        },
        "id": "-vYH0lC64tew",
        "outputId": "fbf99e9e-c171-406d-ddc5-9da95916afc1"
      },
      "execution_count": 71,
      "outputs": [
        {
          "output_type": "execute_result",
          "data": {
            "text/plain": [
              "(3, 1)"
            ]
          },
          "metadata": {},
          "execution_count": 71
        }
      ]
    },
    {
      "cell_type": "markdown",
      "source": [
        "### 3. Các phép toán với tensor hạng cao ($\\geq 3$)"
      ],
      "metadata": {
        "id": "W0IrtHd94wgS"
      }
    },
    {
      "cell_type": "markdown",
      "source": [
        "* Tạo 1 tensor $T ∈ R^{m×n×k}$ với m = 2, n = 2 và k = 3, các giá trị\n",
        "được sinh ngẫu nhiên."
      ],
      "metadata": {
        "id": "L1wp0cjS531P"
      }
    },
    {
      "cell_type": "code",
      "source": [
        "np.random.seed(0)\n",
        "m = 2\n",
        "n = 2\n",
        "k = 3\n",
        "T = np.random.randint(low = 0, high = 10, size = m*n*k).reshape(m, n, k)"
      ],
      "metadata": {
        "id": "y9_Gkunm6Bza"
      },
      "execution_count": 75,
      "outputs": []
    },
    {
      "cell_type": "code",
      "source": [
        "T"
      ],
      "metadata": {
        "colab": {
          "base_uri": "https://localhost:8080/"
        },
        "id": "5I3369nL6gZ8",
        "outputId": "16c32c1d-e624-4df0-e9f8-83045f3e1124"
      },
      "execution_count": 76,
      "outputs": [
        {
          "output_type": "execute_result",
          "data": {
            "text/plain": [
              "array([[[5, 0, 3],\n",
              "        [3, 7, 9]],\n",
              "\n",
              "       [[3, 5, 2],\n",
              "        [4, 7, 6]]])"
            ]
          },
          "metadata": {},
          "execution_count": 76
        }
      ]
    },
    {
      "cell_type": "code",
      "source": [
        "T.shape"
      ],
      "metadata": {
        "colab": {
          "base_uri": "https://localhost:8080/"
        },
        "id": "KHaRL-AM9F3Z",
        "outputId": "0a6240db-9c91-489c-92f3-3df68f686f25"
      },
      "execution_count": 77,
      "outputs": [
        {
          "output_type": "execute_result",
          "data": {
            "text/plain": [
              "(2, 2, 3)"
            ]
          },
          "metadata": {},
          "execution_count": 77
        }
      ]
    },
    {
      "cell_type": "markdown",
      "source": [
        "* **Tạo 1 tensor $T2 ∈ R^{m×n×k×q}$ chứa 2 tensor $t1,t2 ∈ R^{n×k \\times q}$, biết $t1$ và $t2$ được sinh ngẫu nhiên**"
      ],
      "metadata": {
        "id": "K0jYviB866II"
      }
    },
    {
      "cell_type": "code",
      "source": [
        "np.random.seed(0)\n",
        "n = 2\n",
        "k = 2\n",
        "q = 3\n",
        "t1 = np.random.randint(low = 0, high = 10, size = n*k*q).reshape(n, k, q)\n",
        "t2 = np.random.randint(low = 0, high = 10, size = n*k*q).reshape(n, k, q)\n",
        "T2 = np.stack((t1, t2), axis = 0)"
      ],
      "metadata": {
        "id": "Nwunh_AO7Lbk"
      },
      "execution_count": 95,
      "outputs": []
    },
    {
      "cell_type": "code",
      "source": [
        "T2"
      ],
      "metadata": {
        "colab": {
          "base_uri": "https://localhost:8080/"
        },
        "id": "6cbg__pc9ftQ",
        "outputId": "07d4e9b3-eca9-4174-8e67-9dc37634e7f2"
      },
      "execution_count": 96,
      "outputs": [
        {
          "output_type": "execute_result",
          "data": {
            "text/plain": [
              "array([[[[5, 0, 3],\n",
              "         [3, 7, 9]],\n",
              "\n",
              "        [[3, 5, 2],\n",
              "         [4, 7, 6]]],\n",
              "\n",
              "\n",
              "       [[[8, 8, 1],\n",
              "         [6, 7, 7]],\n",
              "\n",
              "        [[8, 1, 5],\n",
              "         [9, 8, 9]]]])"
            ]
          },
          "metadata": {},
          "execution_count": 96
        }
      ]
    },
    {
      "cell_type": "code",
      "source": [
        "T2.shape"
      ],
      "metadata": {
        "colab": {
          "base_uri": "https://localhost:8080/"
        },
        "id": "-xRyIUsJ9hNB",
        "outputId": "f196889b-27c7-48a1-eb32-e977450d65e6"
      },
      "execution_count": 97,
      "outputs": [
        {
          "output_type": "execute_result",
          "data": {
            "text/plain": [
              "(2, 2, 2, 3)"
            ]
          },
          "metadata": {},
          "execution_count": 97
        }
      ]
    }
  ]
}